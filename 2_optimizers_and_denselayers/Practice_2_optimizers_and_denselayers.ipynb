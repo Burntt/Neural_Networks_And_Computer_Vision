{
 "cells": [
  {
   "cell_type": "markdown",
   "metadata": {
    "id": "aY2P_K6PbR4U"
   },
   "source": [
    "# Keywords: modules, optimizers, dense layer\n"
   ]
  },
  {
   "cell_type": "markdown",
   "metadata": {
    "id": "9UwJ0fPUb24R"
   },
   "source": [
    "# High Level Concepts"
   ]
  },
  {
   "cell_type": "markdown",
   "metadata": {
    "id": "A339bun3b6LD"
   },
   "source": [
    "## Modules"
   ]
  },
  {
   "cell_type": "markdown",
   "metadata": {
    "id": "SrNck7Vsb-gK"
   },
   "source": [
    "Modules help to organize and composing functions and inputs (weights) together."
   ]
  },
  {
   "cell_type": "code",
   "execution_count": 1,
   "metadata": {
    "id": "bHh0RNT6bQa8"
   },
   "outputs": [],
   "source": [
    "from torch import nn\n",
    "from torch.nn import init\n",
    "from torch.nn.modules import loss\n",
    "import torch\n",
    "import math\n",
    "import matplotlib.pyplot as plt\n",
    "import torchvision.transforms.functional as TF\n",
    "from sklearn.metrics import confusion_matrix\n",
    "from timeit import default_timer as timer"
   ]
  },
  {
   "cell_type": "markdown",
   "metadata": {
    "id": "S6xmxvkJcTRA"
   },
   "source": [
    "Some examples:"
   ]
  },
  {
   "cell_type": "code",
   "execution_count": 2,
   "metadata": {
    "id": "YbIVrzkecL3c"
   },
   "outputs": [
    {
     "data": {
      "text/plain": [
       "Linear(in_features=10, out_features=10, bias=True)"
      ]
     },
     "execution_count": 2,
     "metadata": {},
     "output_type": "execute_result"
    }
   ],
   "source": [
    "# 10 input features 10 output features\n",
    "linear = nn.Linear(10, 10)\n",
    "linear"
   ]
  },
  {
   "cell_type": "code",
   "execution_count": 3,
   "metadata": {
    "id": "WqASjjZQckL3"
   },
   "outputs": [
    {
     "data": {
      "text/plain": [
       "tensor([ 0.3224,  2.9591, -1.2117, -1.4629, -3.3487, -3.0964,  3.9498,  2.3097,\n",
       "         0.1073, -0.0669], grad_fn=<AddBackward0>)"
      ]
     },
     "execution_count": 3,
     "metadata": {},
     "output_type": "execute_result"
    }
   ],
   "source": [
    "linear(torch.tensor([1.0,2.0,3.0,4.0,5.0,6.0,7.0,8.0,9.0,0.0]))"
   ]
  },
  {
   "cell_type": "code",
   "execution_count": 4,
   "metadata": {
    "id": "uJcHLHt6cXAS"
   },
   "outputs": [
    {
     "data": {
      "text/plain": [
       "ReLU()"
      ]
     },
     "execution_count": 4,
     "metadata": {},
     "output_type": "execute_result"
    }
   ],
   "source": [
    "relu = nn.ReLU()\n",
    "relu"
   ]
  },
  {
   "cell_type": "code",
   "execution_count": 5,
   "metadata": {
    "id": "UzrQBmD6cfr5"
   },
   "outputs": [
    {
     "data": {
      "text/plain": [
       "tensor([1.])"
      ]
     },
     "execution_count": 5,
     "metadata": {},
     "output_type": "execute_result"
    }
   ],
   "source": [
    "x = torch.tensor([1.0])\n",
    "relu(x)"
   ]
  },
  {
   "cell_type": "code",
   "execution_count": 6,
   "metadata": {
    "id": "t4CehSLxcjyY"
   },
   "outputs": [
    {
     "data": {
      "text/plain": [
       "Tanh()"
      ]
     },
     "execution_count": 6,
     "metadata": {},
     "output_type": "execute_result"
    }
   ],
   "source": [
    "tanh = nn.Tanh()\n",
    "tanh"
   ]
  },
  {
   "cell_type": "code",
   "execution_count": 7,
   "metadata": {
    "id": "gfNrJGRnc1po"
   },
   "outputs": [
    {
     "data": {
      "text/plain": [
       "Dropout(p=0.5, inplace=False)"
      ]
     },
     "execution_count": 7,
     "metadata": {},
     "output_type": "execute_result"
    }
   ],
   "source": [
    "dropout = nn.Dropout(0.5)\n",
    "dropout"
   ]
  },
  {
   "cell_type": "code",
   "execution_count": 8,
   "metadata": {
    "id": "5RFklgV1c3Lp"
   },
   "outputs": [
    {
     "data": {
      "text/plain": [
       "Sequential(\n",
       "  (0): Linear(in_features=10, out_features=100, bias=True)\n",
       "  (1): Tanh()\n",
       "  (2): Linear(in_features=100, out_features=100, bias=True)\n",
       "  (3): Tanh()\n",
       "  (4): Linear(in_features=100, out_features=10, bias=True)\n",
       ")"
      ]
     },
     "execution_count": 8,
     "metadata": {},
     "output_type": "execute_result"
    }
   ],
   "source": [
    "sequential = nn.Sequential(nn.Linear(10, 100), nn.Tanh(), nn.Linear(100,100), nn.Tanh(), nn.Linear(100,10))\n",
    "sequential\n",
    "\n",
    "# No activaiton at the end, because its embedded in the loss function (softmax)"
   ]
  },
  {
   "cell_type": "code",
   "execution_count": 9,
   "metadata": {
    "id": "TH30QbbVc41R"
   },
   "outputs": [
    {
     "data": {
      "text/plain": [
       "Net(\n",
       "  (lin1): Linear(in_features=10, out_features=100, bias=True)\n",
       "  (act1): Tanh()\n",
       "  (lin2): Linear(in_features=100, out_features=100, bias=True)\n",
       "  (lin3): Linear(in_features=100, out_features=100, bias=True)\n",
       "  (lin4): Linear(in_features=100, out_features=10, bias=True)\n",
       ")"
      ]
     },
     "execution_count": 9,
     "metadata": {},
     "output_type": "execute_result"
    }
   ],
   "source": [
    "# Note about this syntax; not simple assignment, there is magic. If you want to build your own combinat\n",
    "# combination model you should always follows this structure\n",
    "# Dictionary exists of all submodules\n",
    "# Explicit creation of the layer inside the class\n",
    "# Just always follow this structure (behind the scenes magic)\n",
    "\n",
    "class Net(nn.Module):\n",
    "    def __init__(self):\n",
    "        super(Net, self).__init__()\n",
    "        self.lin1 = nn.Linear(10,100)\n",
    "        self.act1 = nn.Tanh()\n",
    "        self.lin2 = nn.Linear(100,100)\n",
    "        self.lin3 = nn.Linear(100,100)\n",
    "        self.lin4 = nn.Linear(100,10)\n",
    "        \n",
    "    def forward(self, x):\n",
    "        x = self.lin1(x)\n",
    "        x = self.act1(x)\n",
    "        x = self.lin2(x)\n",
    "        x = self.act1(x)\n",
    "        x = self.lin3(x)\n",
    "        x = self.act1(x)\n",
    "        x = self.lin4(x)\n",
    "        return x\n",
    "net = Net()\n",
    "net\n"
   ]
  },
  {
   "cell_type": "code",
   "execution_count": 10,
   "metadata": {
    "id": "9hJXnvzvc677"
   },
   "outputs": [
    {
     "data": {
      "text/plain": [
       "CrossEntropyLoss()"
      ]
     },
     "execution_count": 10,
     "metadata": {},
     "output_type": "execute_result"
    }
   ],
   "source": [
    "cross_entropy = loss.CrossEntropyLoss()\n",
    "cross_entropy"
   ]
  },
  {
   "cell_type": "code",
   "execution_count": 11,
   "metadata": {
    "id": "PakWOAlNHa8f"
   },
   "outputs": [],
   "source": [
    "from torch.nn import Module"
   ]
  },
  {
   "cell_type": "code",
   "execution_count": 12,
   "metadata": {
    "id": "3ZaSSef3Hc7F"
   },
   "outputs": [],
   "source": [
    "from torch.nn import Parameter"
   ]
  },
  {
   "cell_type": "markdown",
   "metadata": {
    "id": "FoNdfuByg9BX"
   },
   "source": [
    "We can define our own modules subclassing `Module` class."
   ]
  },
  {
   "cell_type": "markdown",
   "metadata": {
    "id": "976DWqIQiAYu"
   },
   "source": [
    "Modules can have constant parameters (arguments)."
   ]
  },
  {
   "cell_type": "code",
   "execution_count": 13,
   "metadata": {
    "id": "nhScgmbhF-rs"
   },
   "outputs": [],
   "source": [
    "class Power(Module):\n",
    "\n",
    "    __constants__ = ['exponent']\n",
    "\n",
    "    def __init__(self, exponent=3):\n",
    "        super().__init__()\n",
    "        self.exponent = exponent\n",
    "\n",
    "    def forward(self, input):\n",
    "        return torch.pow(input, self.exponent)\n",
    "\n",
    "    def extra_repr(self):\n",
    "        return f'exponent={self.exponent}'"
   ]
  },
  {
   "cell_type": "code",
   "execution_count": 14,
   "metadata": {
    "id": "nhScgmbhF-rs"
   },
   "outputs": [
    {
     "data": {
      "text/plain": [
       "'2+1=3'"
      ]
     },
     "execution_count": 14,
     "metadata": {},
     "output_type": "execute_result"
    }
   ],
   "source": [
    "# f-strings\n",
    "f'2+1={2+1}'"
   ]
  },
  {
   "cell_type": "code",
   "execution_count": 15,
   "metadata": {
    "id": "wW4Gq_4XObIv"
   },
   "outputs": [],
   "source": [
    "power=Power(3)"
   ]
  },
  {
   "cell_type": "code",
   "execution_count": 16,
   "metadata": {
    "id": "J_ipLzDhOrKA"
   },
   "outputs": [
    {
     "data": {
      "text/plain": [
       "Power(exponent=3)"
      ]
     },
     "execution_count": 16,
     "metadata": {},
     "output_type": "execute_result"
    }
   ],
   "source": [
    "power"
   ]
  },
  {
   "cell_type": "code",
   "execution_count": 17,
   "metadata": {
    "id": "J_ipLzDhOrKA"
   },
   "outputs": [
    {
     "data": {
      "text/plain": [
       "Power(exponent=3)"
      ]
     },
     "execution_count": 17,
     "metadata": {},
     "output_type": "execute_result"
    }
   ],
   "source": [
    "power"
   ]
  },
  {
   "cell_type": "code",
   "execution_count": 18,
   "metadata": {
    "id": "lU_Z2JyMOeb-"
   },
   "outputs": [
    {
     "data": {
      "text/plain": [
       "tensor([8.])"
      ]
     },
     "execution_count": 18,
     "metadata": {},
     "output_type": "execute_result"
    }
   ],
   "source": [
    "power(torch.Tensor([2]))"
   ]
  },
  {
   "cell_type": "markdown",
   "metadata": {
    "id": "ayd8275PiSa_"
   },
   "source": [
    "and trainable parameters (weights)."
   ]
  },
  {
   "cell_type": "code",
   "execution_count": 19,
   "metadata": {
    "id": "m1uAg4zzGrWc"
   },
   "outputs": [],
   "source": [
    "class WPower(Module):    \n",
    "    def __init__(self, ):\n",
    "        super().__init__()\n",
    "        self.exponent = Parameter(torch.Tensor(1))\n",
    "        self.reset_parameters()\n",
    "\n",
    "    def reset_parameters(self):\n",
    "        init.uniform_(self.exponent, a=math.sqrt(5), b=math.sqrt(5))\n",
    "\n",
    "    def forward(self, input):\n",
    "        return torch.pow(input, self.exponent)"
   ]
  },
  {
   "cell_type": "code",
   "execution_count": 20,
   "metadata": {
    "id": "m1uAg4zzGrWc"
   },
   "outputs": [],
   "source": [
    "wpower = WPower()"
   ]
  },
  {
   "cell_type": "code",
   "execution_count": 21,
   "metadata": {
    "id": "m1uAg4zzGrWc"
   },
   "outputs": [
    {
     "data": {
      "text/plain": [
       "[Parameter containing:\n",
       " tensor([2.2361], requires_grad=True)]"
      ]
     },
     "execution_count": 21,
     "metadata": {},
     "output_type": "execute_result"
    }
   ],
   "source": [
    "list(wpower.parameters())"
   ]
  },
  {
   "cell_type": "code",
   "execution_count": 22,
   "metadata": {
    "id": "m1uAg4zzGrWc"
   },
   "outputs": [
    {
     "data": {
      "text/plain": [
       "Parameter containing:\n",
       "tensor([2.2361], requires_grad=True)"
      ]
     },
     "execution_count": 22,
     "metadata": {},
     "output_type": "execute_result"
    }
   ],
   "source": [
    "wpower.exponent"
   ]
  },
  {
   "cell_type": "markdown",
   "metadata": {
    "id": "_YemfgVcdIFB"
   },
   "source": [
    "## Parameters"
   ]
  },
  {
   "cell_type": "markdown",
   "metadata": {
    "id": "TeszfvqidJ_o"
   },
   "source": [
    "Some models are not just functions, but they also have internal parameters (weights/graph inputs)."
   ]
  },
  {
   "cell_type": "code",
   "execution_count": 23,
   "metadata": {
    "id": "jbYduaVOdDID"
   },
   "outputs": [
    {
     "data": {
      "text/plain": [
       "[Parameter containing:\n",
       " tensor([[-0.1704, -0.0404,  0.1710, -0.2808,  0.1290, -0.3010, -0.3140,  0.2283,\n",
       "           0.2772,  0.3093],\n",
       "         [ 0.0412,  0.0050,  0.0316,  0.0470,  0.2605, -0.1316,  0.1251,  0.0133,\n",
       "           0.0953, -0.2742],\n",
       "         [ 0.1289, -0.0424, -0.2528, -0.1431,  0.1451, -0.0101,  0.1580, -0.1962,\n",
       "          -0.0455,  0.0123],\n",
       "         [ 0.2438,  0.0730,  0.0704,  0.1396,  0.3109, -0.1872, -0.0280, -0.2803,\n",
       "          -0.0673,  0.0817],\n",
       "         [-0.2456, -0.0475,  0.2896,  0.1526, -0.2902, -0.2245, -0.2805, -0.2099,\n",
       "           0.1861,  0.2295],\n",
       "         [ 0.0810,  0.1179,  0.2155, -0.2657,  0.1832, -0.0657, -0.2112, -0.2090,\n",
       "          -0.0533, -0.1263],\n",
       "         [-0.2168,  0.3054,  0.0500,  0.1813,  0.2717, -0.2287,  0.2313,  0.0644,\n",
       "           0.0430, -0.2158],\n",
       "         [ 0.2507,  0.2118, -0.1789, -0.3148, -0.0510,  0.1905,  0.2485,  0.2159,\n",
       "          -0.0805, -0.1074],\n",
       "         [ 0.0869,  0.3048,  0.2029,  0.0479, -0.1126, -0.1449, -0.2991,  0.1203,\n",
       "           0.1624,  0.0683],\n",
       "         [ 0.2342, -0.1665,  0.1946, -0.1129, -0.0188,  0.1594, -0.1560,  0.0841,\n",
       "          -0.0283, -0.2106]], requires_grad=True),\n",
       " Parameter containing:\n",
       " tensor([ 0.2216,  0.2721,  0.2837, -0.0095,  0.2789,  0.1104,  0.1728, -0.1986,\n",
       "         -0.2868, -0.2884], requires_grad=True)]"
      ]
     },
     "execution_count": 23,
     "metadata": {},
     "output_type": "execute_result"
    }
   ],
   "source": [
    "list(linear.parameters())"
   ]
  },
  {
   "cell_type": "code",
   "execution_count": 24,
   "metadata": {
    "id": "FmgsM_OedbPR"
   },
   "outputs": [
    {
     "data": {
      "text/plain": [
       "Parameter containing:\n",
       "tensor([[-0.1704, -0.0404,  0.1710, -0.2808,  0.1290, -0.3010, -0.3140,  0.2283,\n",
       "          0.2772,  0.3093],\n",
       "        [ 0.0412,  0.0050,  0.0316,  0.0470,  0.2605, -0.1316,  0.1251,  0.0133,\n",
       "          0.0953, -0.2742],\n",
       "        [ 0.1289, -0.0424, -0.2528, -0.1431,  0.1451, -0.0101,  0.1580, -0.1962,\n",
       "         -0.0455,  0.0123],\n",
       "        [ 0.2438,  0.0730,  0.0704,  0.1396,  0.3109, -0.1872, -0.0280, -0.2803,\n",
       "         -0.0673,  0.0817],\n",
       "        [-0.2456, -0.0475,  0.2896,  0.1526, -0.2902, -0.2245, -0.2805, -0.2099,\n",
       "          0.1861,  0.2295],\n",
       "        [ 0.0810,  0.1179,  0.2155, -0.2657,  0.1832, -0.0657, -0.2112, -0.2090,\n",
       "         -0.0533, -0.1263],\n",
       "        [-0.2168,  0.3054,  0.0500,  0.1813,  0.2717, -0.2287,  0.2313,  0.0644,\n",
       "          0.0430, -0.2158],\n",
       "        [ 0.2507,  0.2118, -0.1789, -0.3148, -0.0510,  0.1905,  0.2485,  0.2159,\n",
       "         -0.0805, -0.1074],\n",
       "        [ 0.0869,  0.3048,  0.2029,  0.0479, -0.1126, -0.1449, -0.2991,  0.1203,\n",
       "          0.1624,  0.0683],\n",
       "        [ 0.2342, -0.1665,  0.1946, -0.1129, -0.0188,  0.1594, -0.1560,  0.0841,\n",
       "         -0.0283, -0.2106]], requires_grad=True)"
      ]
     },
     "execution_count": 24,
     "metadata": {},
     "output_type": "execute_result"
    }
   ],
   "source": [
    "linear.weight"
   ]
  },
  {
   "cell_type": "code",
   "execution_count": 25,
   "metadata": {
    "id": "y5f0Q3GCdeHC"
   },
   "outputs": [
    {
     "data": {
      "text/plain": [
       "Parameter containing:\n",
       "tensor([ 0.2216,  0.2721,  0.2837, -0.0095,  0.2789,  0.1104,  0.1728, -0.1986,\n",
       "        -0.2868, -0.2884], requires_grad=True)"
      ]
     },
     "execution_count": 25,
     "metadata": {},
     "output_type": "execute_result"
    }
   ],
   "source": [
    "linear.bias\n"
   ]
  },
  {
   "cell_type": "code",
   "execution_count": 26,
   "metadata": {
    "id": "eoSzZUpfdgDl"
   },
   "outputs": [
    {
     "data": {
      "text/plain": [
       "[]"
      ]
     },
     "execution_count": 26,
     "metadata": {},
     "output_type": "execute_result"
    }
   ],
   "source": [
    "list(tanh.parameters())\n"
   ]
  },
  {
   "cell_type": "code",
   "execution_count": 27,
   "metadata": {
    "id": "I-sapuItdiYV"
   },
   "outputs": [
    {
     "data": {
      "text/plain": [
       "[]"
      ]
     },
     "execution_count": 27,
     "metadata": {},
     "output_type": "execute_result"
    }
   ],
   "source": [
    "list(dropout.parameters())\n"
   ]
  },
  {
   "cell_type": "code",
   "execution_count": 28,
   "metadata": {
    "id": "Aet5UQbydkp1"
   },
   "outputs": [
    {
     "data": {
      "text/plain": [
       "0.5"
      ]
     },
     "execution_count": 28,
     "metadata": {},
     "output_type": "execute_result"
    }
   ],
   "source": [
    "dropout.p "
   ]
  },
  {
   "cell_type": "code",
   "execution_count": 29,
   "metadata": {
    "id": "Fsdfce82dtQl"
   },
   "outputs": [
    {
     "data": {
      "text/plain": [
       "[]"
      ]
     },
     "execution_count": 29,
     "metadata": {},
     "output_type": "execute_result"
    }
   ],
   "source": [
    "list(cross_entropy.parameters())\n"
   ]
  },
  {
   "cell_type": "code",
   "execution_count": 30,
   "metadata": {
    "id": "BQT6wYz8dpPH"
   },
   "outputs": [
    {
     "data": {
      "text/plain": [
       "[torch.Size([100, 10]),\n",
       " torch.Size([100]),\n",
       " torch.Size([100, 100]),\n",
       " torch.Size([100]),\n",
       " torch.Size([10, 100]),\n",
       " torch.Size([10])]"
      ]
     },
     "execution_count": 30,
     "metadata": {},
     "output_type": "execute_result"
    }
   ],
   "source": [
    "list(map(lambda x: x.shape, list(sequential.parameters())))\n"
   ]
  },
  {
   "cell_type": "code",
   "execution_count": 31,
   "metadata": {
    "id": "FtxKoxdfdmsJ"
   },
   "outputs": [
    {
     "data": {
      "text/plain": [
       "[torch.Size([100, 10]),\n",
       " torch.Size([100]),\n",
       " torch.Size([100, 100]),\n",
       " torch.Size([100]),\n",
       " torch.Size([100, 100]),\n",
       " torch.Size([100]),\n",
       " torch.Size([10, 100]),\n",
       " torch.Size([10])]"
      ]
     },
     "execution_count": 31,
     "metadata": {},
     "output_type": "execute_result"
    }
   ],
   "source": [
    "list(map(lambda x: x.shape, list(net.parameters())))\n"
   ]
  },
  {
   "cell_type": "code",
   "execution_count": 32,
   "metadata": {
    "id": "H3SN19HOdrow"
   },
   "outputs": [
    {
     "data": {
      "text/plain": [
       "[True, True, True, True, True, True, True, True]"
      ]
     },
     "execution_count": 32,
     "metadata": {},
     "output_type": "execute_result"
    }
   ],
   "source": [
    "list(map(lambda x: x.requires_grad, list(net.parameters())))\n"
   ]
  },
  {
   "cell_type": "markdown",
   "metadata": {
    "id": "R8zULEKKd37v"
   },
   "source": [
    "## Eval"
   ]
  },
  {
   "cell_type": "markdown",
   "metadata": {
    "id": "yqPenEPGd7U5"
   },
   "source": [
    "Each module can be in either `eval` or `train` state."
   ]
  },
  {
   "cell_type": "code",
   "execution_count": 33,
   "metadata": {
    "id": "wFPY0TRNd6Kn"
   },
   "outputs": [
    {
     "data": {
      "text/plain": [
       "Dropout(p=0.5, inplace=False)"
      ]
     },
     "execution_count": 33,
     "metadata": {},
     "output_type": "execute_result"
    }
   ],
   "source": [
    "dropout.train()\n"
   ]
  },
  {
   "cell_type": "code",
   "execution_count": 34,
   "metadata": {
    "id": "YPk0cHNqdw51"
   },
   "outputs": [
    {
     "data": {
      "text/plain": [
       "tensor([0., 0., 0., 0., 0., 0., 0., 2., 0., 0.])"
      ]
     },
     "execution_count": 34,
     "metadata": {},
     "output_type": "execute_result"
    }
   ],
   "source": [
    "dropout(torch.ones(10))\n"
   ]
  },
  {
   "cell_type": "code",
   "execution_count": 35,
   "metadata": {
    "id": "o1JnLrcLeFYL"
   },
   "outputs": [
    {
     "data": {
      "text/plain": [
       "Dropout(p=0.5, inplace=False)"
      ]
     },
     "execution_count": 35,
     "metadata": {},
     "output_type": "execute_result"
    }
   ],
   "source": [
    "dropout.eval()\n"
   ]
  },
  {
   "cell_type": "code",
   "execution_count": 36,
   "metadata": {
    "id": "OT0hgQ5PeG_j"
   },
   "outputs": [
    {
     "data": {
      "text/plain": [
       "tensor([0., 0., 4., 0., 0., 4., 0., 0., 0., 0.])"
      ]
     },
     "execution_count": 36,
     "metadata": {},
     "output_type": "execute_result"
    }
   ],
   "source": [
    "newseq = nn.Sequential(nn.Dropout(), nn.Dropout())\n",
    "newseq(torch.ones(10))\n"
   ]
  },
  {
   "cell_type": "code",
   "execution_count": 37,
   "metadata": {
    "id": "kETqU1poeKMr"
   },
   "outputs": [
    {
     "data": {
      "text/plain": [
       "tensor([1., 1., 1., 1., 1., 1., 1., 1., 1., 1.])"
      ]
     },
     "execution_count": 37,
     "metadata": {},
     "output_type": "execute_result"
    }
   ],
   "source": [
    "newseq.eval()\n",
    "newseq(torch.ones(10))"
   ]
  },
  {
   "cell_type": "markdown",
   "metadata": {
    "id": "jxeKQ3r0eP9a"
   },
   "source": [
    "**Important**! Train/eval mode has nothing to do with weight training. It just changes the behavior of some modules (i.e. `dropout`, `batchnorm`). For composite modules `.eval()`/`.train()` sets the corresponding mode for each of its components."
   ]
  },
  {
   "cell_type": "markdown",
   "metadata": {
    "id": "I7rIS3A3etBO"
   },
   "source": [
    "## Initialization"
   ]
  },
  {
   "cell_type": "markdown",
   "metadata": {
    "id": "FyKkp9pcewGR"
   },
   "source": [
    "Most modules have a default way of parameter initialization, but sometimes we might want to init them explicitly."
   ]
  },
  {
   "cell_type": "code",
   "execution_count": 38,
   "metadata": {
    "id": "OKX8XpoPer3N"
   },
   "outputs": [
    {
     "data": {
      "text/plain": [
       "Parameter containing:\n",
       "tensor([[-0.1704, -0.0404,  0.1710, -0.2808,  0.1290, -0.3010, -0.3140,  0.2283,\n",
       "          0.2772,  0.3093],\n",
       "        [ 0.0412,  0.0050,  0.0316,  0.0470,  0.2605, -0.1316,  0.1251,  0.0133,\n",
       "          0.0953, -0.2742],\n",
       "        [ 0.1289, -0.0424, -0.2528, -0.1431,  0.1451, -0.0101,  0.1580, -0.1962,\n",
       "         -0.0455,  0.0123],\n",
       "        [ 0.2438,  0.0730,  0.0704,  0.1396,  0.3109, -0.1872, -0.0280, -0.2803,\n",
       "         -0.0673,  0.0817],\n",
       "        [-0.2456, -0.0475,  0.2896,  0.1526, -0.2902, -0.2245, -0.2805, -0.2099,\n",
       "          0.1861,  0.2295],\n",
       "        [ 0.0810,  0.1179,  0.2155, -0.2657,  0.1832, -0.0657, -0.2112, -0.2090,\n",
       "         -0.0533, -0.1263],\n",
       "        [-0.2168,  0.3054,  0.0500,  0.1813,  0.2717, -0.2287,  0.2313,  0.0644,\n",
       "          0.0430, -0.2158],\n",
       "        [ 0.2507,  0.2118, -0.1789, -0.3148, -0.0510,  0.1905,  0.2485,  0.2159,\n",
       "         -0.0805, -0.1074],\n",
       "        [ 0.0869,  0.3048,  0.2029,  0.0479, -0.1126, -0.1449, -0.2991,  0.1203,\n",
       "          0.1624,  0.0683],\n",
       "        [ 0.2342, -0.1665,  0.1946, -0.1129, -0.0188,  0.1594, -0.1560,  0.0841,\n",
       "         -0.0283, -0.2106]], requires_grad=True)"
      ]
     },
     "execution_count": 38,
     "metadata": {},
     "output_type": "execute_result"
    }
   ],
   "source": [
    "linear.weight"
   ]
  },
  {
   "cell_type": "code",
   "execution_count": 39,
   "metadata": {
    "id": "m8LyFiCweOYu"
   },
   "outputs": [
    {
     "data": {
      "text/plain": [
       "Parameter containing:\n",
       "tensor([[ 0.1958, -0.1595,  0.3427,  0.4242, -0.4070, -0.4242,  0.3320,  0.2851,\n",
       "          0.3684, -0.3191],\n",
       "        [-0.3988,  0.3242,  0.2398,  0.1060,  0.1527, -0.0508,  0.1541, -0.3472,\n",
       "          0.4252,  0.5287],\n",
       "        [-0.4204,  0.2371, -0.3314,  0.2692,  0.3058, -0.2146, -0.4615,  0.4735,\n",
       "         -0.5070,  0.0419],\n",
       "        [ 0.2034,  0.5189, -0.4307,  0.0676,  0.5296,  0.1828, -0.2545, -0.0506,\n",
       "          0.4570, -0.0273],\n",
       "        [ 0.3253, -0.2283,  0.2958,  0.2991, -0.2788, -0.4593, -0.4390, -0.0132,\n",
       "         -0.0478, -0.5015],\n",
       "        [-0.1005,  0.1150,  0.3021,  0.4557,  0.5088,  0.1528, -0.4027,  0.4997,\n",
       "         -0.0647,  0.5144],\n",
       "        [-0.2200, -0.1708,  0.4890, -0.0505,  0.1224,  0.1502, -0.3104,  0.4652,\n",
       "          0.4468,  0.2198],\n",
       "        [-0.0950, -0.1822, -0.0594,  0.4100, -0.3936, -0.1819, -0.0181,  0.3757,\n",
       "          0.3996, -0.5018],\n",
       "        [-0.3657, -0.2017,  0.5439, -0.0886,  0.3874, -0.2452,  0.4325,  0.0142,\n",
       "          0.1704,  0.3020],\n",
       "        [-0.2035,  0.3080,  0.2135,  0.0399, -0.3050, -0.1299,  0.3156,  0.4669,\n",
       "         -0.4226,  0.4965]], requires_grad=True)"
      ]
     },
     "execution_count": 39,
     "metadata": {},
     "output_type": "execute_result"
    }
   ],
   "source": [
    "init.xavier_uniform_(linear.weight)\n"
   ]
  },
  {
   "cell_type": "code",
   "execution_count": 40,
   "metadata": {
    "id": "og6vAbZvfHRV"
   },
   "outputs": [
    {
     "data": {
      "text/plain": [
       "Parameter containing:\n",
       "tensor([[1., 1., 1., 1., 1., 1., 1., 1., 1., 1.],\n",
       "        [1., 1., 1., 1., 1., 1., 1., 1., 1., 1.],\n",
       "        [1., 1., 1., 1., 1., 1., 1., 1., 1., 1.],\n",
       "        [1., 1., 1., 1., 1., 1., 1., 1., 1., 1.],\n",
       "        [1., 1., 1., 1., 1., 1., 1., 1., 1., 1.],\n",
       "        [1., 1., 1., 1., 1., 1., 1., 1., 1., 1.],\n",
       "        [1., 1., 1., 1., 1., 1., 1., 1., 1., 1.],\n",
       "        [1., 1., 1., 1., 1., 1., 1., 1., 1., 1.],\n",
       "        [1., 1., 1., 1., 1., 1., 1., 1., 1., 1.],\n",
       "        [1., 1., 1., 1., 1., 1., 1., 1., 1., 1.]], requires_grad=True)"
      ]
     },
     "execution_count": 40,
     "metadata": {},
     "output_type": "execute_result"
    }
   ],
   "source": [
    "init.constant_(linear.weight, 1.0)\n"
   ]
  },
  {
   "cell_type": "code",
   "execution_count": 41,
   "metadata": {
    "id": "c6X6oRr2fJ6j"
   },
   "outputs": [
    {
     "data": {
      "text/plain": [
       "[Parameter containing:\n",
       " tensor([[1., 1., 1., 1., 1., 1., 1., 1., 1., 1.],\n",
       "         [1., 1., 1., 1., 1., 1., 1., 1., 1., 1.],\n",
       "         [1., 1., 1., 1., 1., 1., 1., 1., 1., 1.],\n",
       "         [1., 1., 1., 1., 1., 1., 1., 1., 1., 1.],\n",
       "         [1., 1., 1., 1., 1., 1., 1., 1., 1., 1.],\n",
       "         [1., 1., 1., 1., 1., 1., 1., 1., 1., 1.],\n",
       "         [1., 1., 1., 1., 1., 1., 1., 1., 1., 1.],\n",
       "         [1., 1., 1., 1., 1., 1., 1., 1., 1., 1.],\n",
       "         [1., 1., 1., 1., 1., 1., 1., 1., 1., 1.],\n",
       "         [1., 1., 1., 1., 1., 1., 1., 1., 1., 1.]], requires_grad=True),\n",
       " Parameter containing:\n",
       " tensor([ 0.2216,  0.2721,  0.2837, -0.0095,  0.2789,  0.1104,  0.1728, -0.1986,\n",
       "         -0.2868, -0.2884], requires_grad=True)]"
      ]
     },
     "execution_count": 41,
     "metadata": {},
     "output_type": "execute_result"
    }
   ],
   "source": [
    "list(linear.parameters())\n"
   ]
  },
  {
   "cell_type": "code",
   "execution_count": 42,
   "metadata": {
    "id": "-NcEej-6fL5H"
   },
   "outputs": [
    {
     "data": {
      "text/plain": [
       "[Parameter containing:\n",
       " tensor([[ -7.1392,  11.8878,  -3.7133,   2.9738,  -1.8304,  10.5991,  -1.6181,\n",
       "            2.7477,  -0.7197,  -1.4729],\n",
       "         [ -3.7708,  -8.4758,  -8.7529,  -8.5825,   8.9000,   9.7932,  -5.8744,\n",
       "            6.0912,  -2.7552,   4.3440],\n",
       "         [  6.0895,   8.7568,   6.9104,   2.5997,   1.6281,   1.2908,   6.9638,\n",
       "            9.7513,  -2.2097,   6.5017],\n",
       "         [  8.2510,  10.0226,   5.6413,  -1.0476,   3.6533,  11.6600,  -6.8923,\n",
       "            6.3612,  -9.3393,   1.0613],\n",
       "         [  8.1898,  10.1593,  -3.5385,  10.5986,  -9.7591,   7.0280,  -5.6122,\n",
       "            0.3114,   0.0574,  -5.6232],\n",
       "         [  2.5647,   8.8914, -11.6072, -11.0234,   8.1807,  -9.0384,   0.0891,\n",
       "           -9.6596,   3.9200,   2.5331],\n",
       "         [ 10.4125, -10.3309,  11.3378,   2.2952,  11.2904,   3.0119, -11.1334,\n",
       "           -5.4926,  -3.6783,  11.7763],\n",
       "         [ -5.1285,  -1.3147, -11.9227,  -8.1250,  -3.9471,   2.5215,  -1.0286,\n",
       "            4.6322,  -6.7091,   2.5997],\n",
       "         [ -7.0111,   7.0726,   7.1612,   7.4274,   3.8507,   6.2323,   0.4498,\n",
       "           11.3791,   0.9907,  -7.5441],\n",
       "         [ -2.7756,   9.4266,   7.5338,  -5.1648,   7.5485,   1.3049,  -1.4775,\n",
       "            1.1330,  11.9294,   1.4769]], requires_grad=True),\n",
       " Parameter containing:\n",
       " tensor([ 11.7787, -10.2173,   4.0887,   9.8342,   2.3000,   8.9376,  -4.2701,\n",
       "           0.3053,   0.2813,  -9.5128], requires_grad=True)]"
      ]
     },
     "execution_count": 42,
     "metadata": {},
     "output_type": "execute_result"
    }
   ],
   "source": [
    "for param in linear.parameters():\n",
    "    init.uniform_(param, -12, 12)\n",
    "list(linear.parameters())"
   ]
  },
  {
   "cell_type": "markdown",
   "metadata": {
    "id": "bczsQJD_fXJF"
   },
   "source": [
    "[link text](https://)You can find more initialization functions here: https://pytorch.org/docs/master/nn.html#torch-nn-init."
   ]
  },
  {
   "cell_type": "markdown",
   "metadata": {
    "id": "j-HlBUMMfooa"
   },
   "source": [
    "## Optimizers"
   ]
  },
  {
   "cell_type": "markdown",
   "metadata": {
    "id": "8QcAvjRJfvsT"
   },
   "source": [
    "Torch has a reach collection of optimizers built-in, but for now we will use just a vanilla stochastic gradient descent."
   ]
  },
  {
   "cell_type": "code",
   "execution_count": 43,
   "metadata": {
    "id": "7D4SLAamfONk"
   },
   "outputs": [],
   "source": [
    "import torch.optim as optim"
   ]
  },
  {
   "cell_type": "code",
   "execution_count": 44,
   "metadata": {
    "id": "5_zpzWMggMHz"
   },
   "outputs": [],
   "source": [
    "x = torch.tensor([1.0], requires_grad = True)"
   ]
  },
  {
   "cell_type": "code",
   "execution_count": 45,
   "metadata": {
    "id": "MfWQxhE3gOC6"
   },
   "outputs": [],
   "source": [
    "sgd = optim.SGD([x], lr=0.1)"
   ]
  },
  {
   "cell_type": "code",
   "execution_count": 46,
   "metadata": {
    "id": "80K1tz4ugP_s"
   },
   "outputs": [],
   "source": [
    "y = x * 2\n"
   ]
  },
  {
   "cell_type": "code",
   "execution_count": 47,
   "metadata": {
    "id": "zS49qBGzgTEW"
   },
   "outputs": [],
   "source": [
    "y.backward()"
   ]
  },
  {
   "cell_type": "code",
   "execution_count": 48,
   "metadata": {
    "id": "M0nHcNqVgWRe"
   },
   "outputs": [
    {
     "data": {
      "text/plain": [
       "tensor([2.])"
      ]
     },
     "execution_count": 48,
     "metadata": {},
     "output_type": "execute_result"
    }
   ],
   "source": [
    "x.grad"
   ]
  },
  {
   "cell_type": "code",
   "execution_count": 49,
   "metadata": {
    "id": "CuVGUuqPgYTo"
   },
   "outputs": [],
   "source": [
    "sgd.step()"
   ]
  },
  {
   "cell_type": "code",
   "execution_count": 50,
   "metadata": {
    "id": "sr-tEtKEgaIS"
   },
   "outputs": [
    {
     "data": {
      "text/plain": [
       "tensor([0.8000], requires_grad=True)"
      ]
     },
     "execution_count": 50,
     "metadata": {},
     "output_type": "execute_result"
    }
   ],
   "source": [
    "x"
   ]
  },
  {
   "cell_type": "code",
   "execution_count": 51,
   "metadata": {
    "id": "V0dKVjoYgb_n"
   },
   "outputs": [
    {
     "data": {
      "text/plain": [
       "tensor([2.])"
      ]
     },
     "execution_count": 51,
     "metadata": {},
     "output_type": "execute_result"
    }
   ],
   "source": [
    "x.grad\n"
   ]
  },
  {
   "cell_type": "code",
   "execution_count": 52,
   "metadata": {
    "id": "-HkkGT9igdst"
   },
   "outputs": [],
   "source": [
    "sgd.zero_grad()\n"
   ]
  },
  {
   "cell_type": "code",
   "execution_count": 53,
   "metadata": {
    "id": "r8eRwxRQgfNi"
   },
   "outputs": [
    {
     "data": {
      "text/plain": [
       "tensor([0.])"
      ]
     },
     "execution_count": 53,
     "metadata": {},
     "output_type": "execute_result"
    }
   ],
   "source": [
    "x.grad\n"
   ]
  },
  {
   "cell_type": "markdown",
   "metadata": {
    "id": "4bbVM2MHgiWQ"
   },
   "source": [
    "# First Training Loop"
   ]
  },
  {
   "cell_type": "code",
   "execution_count": 54,
   "metadata": {
    "id": "wIFr-KUjgmR_"
   },
   "outputs": [],
   "source": [
    "from torchvision import datasets, transforms"
   ]
  },
  {
   "cell_type": "markdown",
   "metadata": {
    "id": "jKSiYasbgrQ3"
   },
   "source": [
    "Let's downlad MNIST --- dataset of handwritten digits."
   ]
  },
  {
   "cell_type": "code",
   "execution_count": 55,
   "metadata": {
    "id": "0CaQGiyMgrnT"
   },
   "outputs": [],
   "source": [
    "train_dataset = datasets.MNIST('../data', train=True, download=True,\n",
    "                                transform=transforms.Compose([\n",
    "                                    transforms.ToTensor(),\n",
    "                                    transforms.Normalize((0.1307,), (0.3081,))\n",
    "                                ]))\n"
   ]
  },
  {
   "cell_type": "code",
   "execution_count": 56,
   "metadata": {
    "id": "G3h5RcNngxnI"
   },
   "outputs": [],
   "source": [
    "test_dataset = datasets.MNIST('../data', train=False, download=True,\n",
    "                                transform=transforms.Compose([\n",
    "                                    transforms.ToTensor(),\n",
    "                                    transforms.Normalize((0.1307,), (0.3081,))\n",
    "                                ]))"
   ]
  },
  {
   "cell_type": "markdown",
   "metadata": {
    "id": "VreNjs_ghAEI"
   },
   "source": [
    "Dataloaders are responsible for data loading. They help us to split dataset in batches and shuffles the dataset(otherwise each buch will have only variants of a single digit). We will look inside them later."
   ]
  },
  {
   "cell_type": "code",
   "execution_count": 57,
   "metadata": {
    "id": "isUaEilOg79-"
   },
   "outputs": [],
   "source": [
    "train_loader = torch.utils.data.DataLoader(train_dataset, batch_size=64, shuffle=True)\n",
    "test_loader = torch.utils.data.DataLoader(test_dataset, batch_size=64, shuffle=True)"
   ]
  },
  {
   "cell_type": "code",
   "execution_count": 58,
   "metadata": {
    "id": "2JwLAUASg-3u"
   },
   "outputs": [],
   "source": [
    "import matplotlib\n",
    "matplotlib.use('Agg')\n",
    "import matplotlib.pyplot as plt\n",
    "toPIL = transforms.ToPILImage()"
   ]
  },
  {
   "cell_type": "code",
   "execution_count": 59,
   "metadata": {
    "id": "tNt3vzcWheef"
   },
   "outputs": [],
   "source": [
    "def example(i):\n",
    "    print(train_dataset[i][1])\n",
    "    return toPIL(train_dataset[i][0]).resize((256, 256))"
   ]
  },
  {
   "cell_type": "code",
   "execution_count": 60,
   "metadata": {
    "id": "FT3VcfTNhg9S"
   },
   "outputs": [
    {
     "name": "stdout",
     "output_type": "stream",
     "text": [
      "0\n"
     ]
    },
    {
     "data": {
      "image/png": "[encoded data removed]",
      "text/plain": [
       "<PIL.Image.Image image mode=L size=256x256 at 0x7FB83DE06EB0>"
      ]
     },
     "execution_count": 60,
     "metadata": {},
     "output_type": "execute_result"
    }
   ],
   "source": [
    "example(1)"
   ]
  },
  {
   "cell_type": "code",
   "execution_count": 61,
   "metadata": {
    "id": "ukAEeDcShinq"
   },
   "outputs": [
    {
     "data": {
      "text/plain": [
       "tensor([9, 2, 4, 9, 0, 8, 1, 2, 4, 1, 3, 5, 6, 6, 4, 8, 0, 1, 5, 7, 6, 6, 8, 7,\n",
       "        6, 7, 2, 4, 8, 8, 2, 2, 0, 3, 0, 1, 0, 9, 7, 1, 7, 4, 1, 3, 0, 2, 1, 8,\n",
       "        7, 3, 3, 3, 1, 0, 9, 7, 7, 8, 6, 8, 7, 2, 3, 6])"
      ]
     },
     "execution_count": 61,
     "metadata": {},
     "output_type": "execute_result"
    }
   ],
   "source": [
    "train_loader.__iter__().__next__()[1]\n"
   ]
  },
  {
   "cell_type": "code",
   "execution_count": 62,
   "metadata": {
    "id": "u2xbqs4CiAxN"
   },
   "outputs": [
    {
     "data": {
      "text/plain": [
       "torch.Size([64, 1, 28, 28])"
      ]
     },
     "execution_count": 62,
     "metadata": {},
     "output_type": "execute_result"
    }
   ],
   "source": [
    "train_loader.__iter__().__next__()[0].shape\n"
   ]
  },
  {
   "cell_type": "code",
   "execution_count": 63,
   "metadata": {
    "id": "hBOrXp1ZiDQm"
   },
   "outputs": [
    {
     "data": {
      "image/png": "[encoded data removed]",
      "text/plain": [
       "<PIL.Image.Image image mode=L size=256x256 at 0x7FB8329D87F0>"
      ]
     },
     "execution_count": 63,
     "metadata": {},
     "output_type": "execute_result"
    }
   ],
   "source": [
    "toPIL(train_loader.__iter__().__next__()[0][0]).resize((256,256))"
   ]
  },
  {
   "cell_type": "markdown",
   "metadata": {
    "id": "MU728eD_iVwF"
   },
   "source": [
    "Let's write a simple helper module."
   ]
  },
  {
   "cell_type": "code",
   "execution_count": 64,
   "metadata": {
    "id": "drFE7ng0iaY2"
   },
   "outputs": [],
   "source": [
    "class Flatten(torch.nn.Module):\n",
    "    def forward(self, x):\n",
    "        batch_size = x.shape[0]\n",
    "        return x.view(batch_size, -1)\n"
   ]
  },
  {
   "cell_type": "code",
   "execution_count": 65,
   "metadata": {
    "id": "iyfJfxlYiGY2"
   },
   "outputs": [],
   "source": [
    "model = nn.Sequential(Flatten(), \n",
    "                      nn.Linear(784, 512), \n",
    "                      nn.Tanh(),\n",
    "                      nn.Linear(512, 64), \n",
    "                      nn.Tanh(),\n",
    "                      nn.Linear(64, 10))\n",
    "for param in model.parameters():\n",
    "    init.uniform_(param, -0.1, 0.1)"
   ]
  },
  {
   "cell_type": "markdown",
   "metadata": {
    "id": "X8q6alogikey"
   },
   "source": [
    "Why do we need `Flatten` module?\n",
    "\n",
    "---\n",
    "\n"
   ]
  },
  {
   "cell_type": "markdown",
   "metadata": {
    "id": "R1ioiHwWiriu"
   },
   "source": [
    "Setup an optimizer:\n"
   ]
  },
  {
   "cell_type": "code",
   "execution_count": 66,
   "metadata": {
    "id": "F_ZaRtLhiQpL"
   },
   "outputs": [],
   "source": [
    "optimizer = optim.SGD(model.parameters(), lr=0.1)"
   ]
  },
  {
   "cell_type": "markdown",
   "metadata": {
    "id": "FuGF-VaJixR-"
   },
   "source": [
    "Choose a loss function:"
   ]
  },
  {
   "cell_type": "code",
   "execution_count": 67,
   "metadata": {
    "id": "97rK7imziwi7"
   },
   "outputs": [],
   "source": [
    "loss_function = loss.CrossEntropyLoss()\n"
   ]
  },
  {
   "cell_type": "markdown",
   "metadata": {
    "id": "tY1JXkwsi4B7"
   },
   "source": [
    "And start training:"
   ]
  },
  {
   "cell_type": "code",
   "execution_count": 68,
   "metadata": {
    "id": "uTGlEEUsi21g"
   },
   "outputs": [],
   "source": [
    "def train(model, train_loader, optimizer, loss_function, epoch):\n",
    "    model.train()\n",
    "    for batch_idx, (data, target) in enumerate(train_loader):\n",
    "        optimizer.zero_grad()\n",
    "        output = model(data)\n",
    "        loss = loss_function(output, target)\n",
    "        loss.backward()\n",
    "        optimizer.step()\n",
    "        if batch_idx % 200 == 0:\n",
    "            print('Train Epoch: {} [{}/{} ({:.0f}%)]\\tLoss: {:.6f}'.format(\n",
    "                epoch, batch_idx * len(data), len(train_loader.dataset),\n",
    "                100. * batch_idx / len(train_loader), loss.item()))"
   ]
  },
  {
   "cell_type": "code",
   "execution_count": 69,
   "metadata": {
    "id": "YJZcV3I1it47"
   },
   "outputs": [],
   "source": [
    "def test(model, test_loader, loss_function):\n",
    "    \n",
    "    incorrect_pred_idx=[]\n",
    "    incorrect_pred = []\n",
    "\n",
    "    model.eval()\n",
    "    test_loss = 0\n",
    "    correct = 0\n",
    "    with torch.no_grad():\n",
    "        for i, [data, target] in enumerate(test_loader):\n",
    "            output = model(data)\n",
    "            test_loss += loss_function(output, target).sum().item()\n",
    "            pred = output.argmax(dim=1, keepdim=True)\n",
    "            correct += pred.eq(target.view_as(pred)).sum().item()\n",
    "            \n",
    "            # Store wrongly predicted images\n",
    "            wrong_idx = (pred != target.view_as(pred)).nonzero()[:, 0]\n",
    "            if wrong_idx.nelement() != 0:\n",
    "                wrong_pred = pred[wrong_idx]\n",
    "                incorrect_pred_idx.append(wrong_idx)\n",
    "                incorrect_pred.append(wrong_pred)\n",
    "                \n",
    "    test_loss /= len(test_loader.dataset)\n",
    "    \n",
    "\n",
    "    print('\\nTest set: Average loss: {:.4f}, Accuracy: {}/{} ({:.0f}%)\\n'.format(\n",
    "        test_loss, correct, len(test_loader.dataset),\n",
    "        100. * correct / len(test_loader.dataset)))\n",
    "    return incorrect_pred_idx, incorrect_pred"
   ]
  },
  {
   "cell_type": "code",
   "execution_count": 70,
   "metadata": {
    "id": "DMHY4BfdjJFr",
    "scrolled": false
   },
   "outputs": [],
   "source": [
    "#  for epoch in range(1, 20):\n",
    "#         train(model, train_loader, optimizer, loss_function, epoch)\n",
    "#         test(model, test_loader, loss_function)"
   ]
  },
  {
   "cell_type": "markdown",
   "metadata": {
    "id": "v18YmlwUoxY8"
   },
   "source": [
    "# Assignment"
   ]
  },
  {
   "cell_type": "markdown",
   "metadata": {
    "id": "W20EUe7AxioK"
   },
   "source": [
    "## Due to 8AM, 25.05.2021"
   ]
  },
  {
   "cell_type": "markdown",
   "metadata": {
    "id": "mO6zst4UpcMR"
   },
   "source": [
    "## 1. MNIST playground [10]\n",
    "\n",
    "**Important!** This task is not too hard, but it is pretty time-consuming. Total computation time is about 4 hours."
   ]
  },
  {
   "cell_type": "markdown",
   "metadata": {
    "id": "Fx878231wz4N"
   },
   "source": [
    "##### 1. Find out how many epochs are needed for our network to stop improving on test dataset (let's stop on 5 epochs without accuracy improvement on the test set). How long does it take? [1]"
   ]
  },
  {
   "cell_type": "markdown",
   "metadata": {
    "id": "Fx878231wz4N"
   },
   "source": [
    "It takes about 30 seconds, or 5 epochs, before the accuracy stops improving significantly"
   ]
  },
  {
   "cell_type": "code",
   "execution_count": 71,
   "metadata": {
    "id": "Fx878231wz4N"
   },
   "outputs": [],
   "source": [
    "def weight_reset(m):\n",
    "    if isinstance(m, nn.Conv2d) or isinstance(m, nn.Linear):\n",
    "        m.reset_parameters()"
   ]
  },
  {
   "cell_type": "code",
   "execution_count": 72,
   "metadata": {
    "id": "Fx878231wz4N"
   },
   "outputs": [
    {
     "data": {
      "text/plain": [
       "device(type='cuda', index=0)"
      ]
     },
     "execution_count": 72,
     "metadata": {},
     "output_type": "execute_result"
    }
   ],
   "source": [
    "device = torch.device(\"cuda:0\" if torch.cuda.is_available() else \"cpu\")\n",
    "device"
   ]
  },
  {
   "cell_type": "code",
   "execution_count": 73,
   "metadata": {
    "id": "Fx878231wz4N"
   },
   "outputs": [
    {
     "name": "stdout",
     "output_type": "stream",
     "text": [
      "Train Epoch: 1 [0/60000 (0%)]\tLoss: 2.327771\n",
      "Train Epoch: 1 [12800/60000 (21%)]\tLoss: 0.304363\n",
      "Train Epoch: 1 [25600/60000 (43%)]\tLoss: 0.278540\n",
      "Train Epoch: 1 [38400/60000 (64%)]\tLoss: 0.186084\n",
      "Train Epoch: 1 [51200/60000 (85%)]\tLoss: 0.225507\n",
      "\n",
      "Test set: Average loss: 0.0024, Accuracy: 9538/10000 (95%)\n",
      "\n",
      "Train Epoch: 2 [0/60000 (0%)]\tLoss: 0.047927\n",
      "Train Epoch: 2 [12800/60000 (21%)]\tLoss: 0.105109\n",
      "Train Epoch: 2 [25600/60000 (43%)]\tLoss: 0.102747\n",
      "Train Epoch: 2 [38400/60000 (64%)]\tLoss: 0.122402\n",
      "Train Epoch: 2 [51200/60000 (85%)]\tLoss: 0.177707\n",
      "\n",
      "Test set: Average loss: 0.0017, Accuracy: 9653/10000 (97%)\n",
      "\n",
      "Train Epoch: 3 [0/60000 (0%)]\tLoss: 0.061931\n",
      "Train Epoch: 3 [12800/60000 (21%)]\tLoss: 0.057408\n",
      "Train Epoch: 3 [25600/60000 (43%)]\tLoss: 0.044469\n",
      "Train Epoch: 3 [38400/60000 (64%)]\tLoss: 0.018160\n",
      "Train Epoch: 3 [51200/60000 (85%)]\tLoss: 0.045129\n",
      "\n",
      "Test set: Average loss: 0.0016, Accuracy: 9677/10000 (97%)\n",
      "\n",
      "Train Epoch: 4 [0/60000 (0%)]\tLoss: 0.016354\n",
      "Train Epoch: 4 [12800/60000 (21%)]\tLoss: 0.020341\n",
      "Train Epoch: 4 [25600/60000 (43%)]\tLoss: 0.094656\n",
      "Train Epoch: 4 [38400/60000 (64%)]\tLoss: 0.018319\n",
      "Train Epoch: 4 [51200/60000 (85%)]\tLoss: 0.018816\n",
      "\n",
      "Test set: Average loss: 0.0012, Accuracy: 9756/10000 (98%)\n",
      "\n",
      "CPU times: user 3min 55s, sys: 446 ms, total: 3min 56s\n",
      "Wall time: 29.7 s\n"
     ]
    }
   ],
   "source": [
    "%%time\n",
    "for epoch in range(1, 5):\n",
    "    train(model, train_loader, optimizer, loss_function, epoch)\n",
    "    incorrect_pred_idx, incorrect_pred = test(model, test_loader, loss_function)"
   ]
  },
  {
   "cell_type": "markdown",
   "metadata": {
    "id": "Fx878231wz4N"
   },
   "source": [
    "##### 2. Find some problematic examples and show them with `example()` function we defined in class.[1]"
   ]
  },
  {
   "cell_type": "code",
   "execution_count": 74,
   "metadata": {
    "id": "Fx878231wz4N"
   },
   "outputs": [
    {
     "data": {
      "text/plain": [
       "[tensor([[9],\n",
       "         [8]]),\n",
       " tensor([[9]]),\n",
       " tensor([[2],\n",
       "         [8],\n",
       "         [9]]),\n",
       " tensor([[7],\n",
       "         [9]]),\n",
       " tensor([[3],\n",
       "         [5],\n",
       "         [3],\n",
       "         [3],\n",
       "         [2]]),\n",
       " tensor([[8]]),\n",
       " tensor([[5]]),\n",
       " tensor([[6],\n",
       "         [5]]),\n",
       " tensor([[3]]),\n",
       " tensor([[3]]),\n",
       " tensor([[3]]),\n",
       " tensor([[6]]),\n",
       " tensor([[8]]),\n",
       " tensor([[8],\n",
       "         [7],\n",
       "         [7],\n",
       "         [1]]),\n",
       " tensor([[6]]),\n",
       " tensor([[3],\n",
       "         [4],\n",
       "         [4]]),\n",
       " tensor([[3],\n",
       "         [2]]),\n",
       " tensor([[8],\n",
       "         [8]]),\n",
       " tensor([[4],\n",
       "         [0],\n",
       "         [8]]),\n",
       " tensor([[3],\n",
       "         [0]]),\n",
       " tensor([[9]]),\n",
       " tensor([[6],\n",
       "         [3],\n",
       "         [8]]),\n",
       " tensor([[3],\n",
       "         [4],\n",
       "         [9]]),\n",
       " tensor([[7]]),\n",
       " tensor([[7]]),\n",
       " tensor([[4],\n",
       "         [4],\n",
       "         [5]]),\n",
       " tensor([[7]]),\n",
       " tensor([[3],\n",
       "         [7]]),\n",
       " tensor([[2],\n",
       "         [7]]),\n",
       " tensor([[5]]),\n",
       " tensor([[3],\n",
       "         [6]]),\n",
       " tensor([[3]]),\n",
       " tensor([[4]]),\n",
       " tensor([[8],\n",
       "         [3],\n",
       "         [6],\n",
       "         [6]]),\n",
       " tensor([[2]]),\n",
       " tensor([[8],\n",
       "         [3],\n",
       "         [8]]),\n",
       " tensor([[3]]),\n",
       " tensor([[3],\n",
       "         [6],\n",
       "         [7]]),\n",
       " tensor([[6]]),\n",
       " tensor([[3],\n",
       "         [2],\n",
       "         [0],\n",
       "         [7]]),\n",
       " tensor([[8],\n",
       "         [3],\n",
       "         [0]]),\n",
       " tensor([[2],\n",
       "         [2],\n",
       "         [3],\n",
       "         [5]]),\n",
       " tensor([[7],\n",
       "         [2]]),\n",
       " tensor([[3],\n",
       "         [8]]),\n",
       " tensor([[2],\n",
       "         [8],\n",
       "         [9],\n",
       "         [6]]),\n",
       " tensor([[3]]),\n",
       " tensor([[8],\n",
       "         [3]]),\n",
       " tensor([[9],\n",
       "         [5],\n",
       "         [5]]),\n",
       " tensor([[2],\n",
       "         [6]]),\n",
       " tensor([[3],\n",
       "         [5],\n",
       "         [2]]),\n",
       " tensor([[9],\n",
       "         [6]]),\n",
       " tensor([[1]]),\n",
       " tensor([[8],\n",
       "         [0],\n",
       "         [9]]),\n",
       " tensor([[9],\n",
       "         [4]]),\n",
       " tensor([[6],\n",
       "         [8]]),\n",
       " tensor([[3]]),\n",
       " tensor([[7],\n",
       "         [2],\n",
       "         [3]]),\n",
       " tensor([[2],\n",
       "         [6],\n",
       "         [9],\n",
       "         [0]]),\n",
       " tensor([[9]]),\n",
       " tensor([[0],\n",
       "         [8]]),\n",
       " tensor([[4],\n",
       "         [3]]),\n",
       " tensor([[3]]),\n",
       " tensor([[9],\n",
       "         [4]]),\n",
       " tensor([[6],\n",
       "         [3],\n",
       "         [9],\n",
       "         [0]]),\n",
       " tensor([[3],\n",
       "         [2]]),\n",
       " tensor([[9]]),\n",
       " tensor([[1]]),\n",
       " tensor([[8],\n",
       "         [7],\n",
       "         [8]]),\n",
       " tensor([[3],\n",
       "         [3],\n",
       "         [1],\n",
       "         [4],\n",
       "         [5],\n",
       "         [0]]),\n",
       " tensor([[0]]),\n",
       " tensor([[7]]),\n",
       " tensor([[3]]),\n",
       " tensor([[1],\n",
       "         [8],\n",
       "         [9]]),\n",
       " tensor([[3],\n",
       "         [2]]),\n",
       " tensor([[4]]),\n",
       " tensor([[0]]),\n",
       " tensor([[2],\n",
       "         [2]]),\n",
       " tensor([[9],\n",
       "         [9],\n",
       "         [3]]),\n",
       " tensor([[3]]),\n",
       " tensor([[9]]),\n",
       " tensor([[3]]),\n",
       " tensor([[2],\n",
       "         [8],\n",
       "         [3]]),\n",
       " tensor([[8],\n",
       "         [6]]),\n",
       " tensor([[0]]),\n",
       " tensor([[9]]),\n",
       " tensor([[0]]),\n",
       " tensor([[7]]),\n",
       " tensor([[0],\n",
       "         [4],\n",
       "         [3]]),\n",
       " tensor([[8]]),\n",
       " tensor([[3]]),\n",
       " tensor([[2],\n",
       "         [3],\n",
       "         [4]]),\n",
       " tensor([[5],\n",
       "         [9],\n",
       "         [2]]),\n",
       " tensor([[1],\n",
       "         [6]]),\n",
       " tensor([[3],\n",
       "         [0],\n",
       "         [3],\n",
       "         [9]]),\n",
       " tensor([[1],\n",
       "         [3],\n",
       "         [4]]),\n",
       " tensor([[2],\n",
       "         [9],\n",
       "         [5],\n",
       "         [0]]),\n",
       " tensor([[7],\n",
       "         [9]]),\n",
       " tensor([[9],\n",
       "         [3],\n",
       "         [1]]),\n",
       " tensor([[8]]),\n",
       " tensor([[3],\n",
       "         [9],\n",
       "         [4],\n",
       "         [3]]),\n",
       " tensor([[8],\n",
       "         [3]]),\n",
       " tensor([[4],\n",
       "         [9]]),\n",
       " tensor([[8],\n",
       "         [2]]),\n",
       " tensor([[3]]),\n",
       " tensor([[3],\n",
       "         [0]]),\n",
       " tensor([[9],\n",
       "         [6],\n",
       "         [5]]),\n",
       " tensor([[4]]),\n",
       " tensor([[8]]),\n",
       " tensor([[8],\n",
       "         [0],\n",
       "         [0]]),\n",
       " tensor([[4],\n",
       "         [3]]),\n",
       " tensor([[6],\n",
       "         [4]]),\n",
       " tensor([[6],\n",
       "         [7]]),\n",
       " tensor([[0]]),\n",
       " tensor([[9],\n",
       "         [7]]),\n",
       " tensor([[8]]),\n",
       " tensor([[2],\n",
       "         [2]]),\n",
       " tensor([[8]]),\n",
       " tensor([[3],\n",
       "         [3]]),\n",
       " tensor([[3]]),\n",
       " tensor([[7],\n",
       "         [0]]),\n",
       " tensor([[9]])]"
      ]
     },
     "execution_count": 74,
     "metadata": {},
     "output_type": "execute_result"
    }
   ],
   "source": [
    "incorrect_pred"
   ]
  },
  {
   "cell_type": "code",
   "execution_count": 75,
   "metadata": {
    "id": "Fx878231wz4N"
   },
   "outputs": [],
   "source": [
    "def example_train(i):\n",
    "    print(train_dataset[i][1])\n",
    "    return toPIL(train_dataset[i][0]).resize((256, 256))"
   ]
  },
  {
   "cell_type": "code",
   "execution_count": 76,
   "metadata": {
    "id": "Fx878231wz4N"
   },
   "outputs": [],
   "source": [
    "def example_test(i):\n",
    "    print(test_dataset[i][1])\n",
    "    test_dataset[i][1].label\n",
    "    return toPIL(test_dataset[i][0]).resize((256, 256)), labelx"
   ]
  },
  {
   "cell_type": "code",
   "execution_count": 77,
   "metadata": {
    "id": "Fx878231wz4N"
   },
   "outputs": [
    {
     "data": {
      "text/plain": [
       "[tensor([10, 24]),\n",
       " tensor([36]),\n",
       " tensor([ 4, 18, 32]),\n",
       " tensor([36, 50]),\n",
       " tensor([14, 30, 33, 44, 46]),\n",
       " tensor([51]),\n",
       " tensor([48]),\n",
       " tensor([27, 56]),\n",
       " tensor([23]),\n",
       " tensor([53])]"
      ]
     },
     "execution_count": 77,
     "metadata": {},
     "output_type": "execute_result"
    }
   ],
   "source": [
    "incorrect_pred_idx[:10]"
   ]
  },
  {
   "cell_type": "code",
   "execution_count": 78,
   "metadata": {
    "id": "Fx878231wz4N"
   },
   "outputs": [
    {
     "data": {
      "text/plain": [
       "tensor([10, 24])"
      ]
     },
     "execution_count": 78,
     "metadata": {},
     "output_type": "execute_result"
    }
   ],
   "source": [
    "incorrect_pred_idx[0]"
   ]
  },
  {
   "cell_type": "code",
   "execution_count": 79,
   "metadata": {
    "id": "Fx878231wz4N"
   },
   "outputs": [
    {
     "name": "stdout",
     "output_type": "stream",
     "text": [
      "can scroll through incorrect examples by chaning the wrong_idx var,        and running this cell and the next one\n",
      "2\n"
     ]
    },
    {
     "data": {
      "image/png": "[encoded data removed]",
      "text/plain": [
       "<PIL.Image.Image image mode=L size=256x256 at 0x7FB83DDE4F10>"
      ]
     },
     "execution_count": 79,
     "metadata": {},
     "output_type": "execute_result"
    }
   ],
   "source": [
    "print('can scroll through incorrect examples by chaning the wrong_idx var, \\\n",
    "       and running this cell and the next one')\n",
    "\n",
    "wrong_idx = 30\n",
    "\n",
    "sample_number = incorrect_pred_idx[wrong_idx].numpy()[0]\n",
    "example_train(sample_number)"
   ]
  },
  {
   "cell_type": "code",
   "execution_count": 80,
   "metadata": {
    "id": "Fx878231wz4N"
   },
   "outputs": [
    {
     "name": "stdout",
     "output_type": "stream",
     "text": [
      "Incorrect sample number:  25\n",
      "The predicted class for this number was:\n"
     ]
    },
    {
     "data": {
      "text/plain": [
       "array([4])"
      ]
     },
     "execution_count": 80,
     "metadata": {},
     "output_type": "execute_result"
    }
   ],
   "source": [
    "print('Incorrect sample number: ', sample_number)\n",
    "print('The predicted class for this number was:')\n",
    "\n",
    "incorrect_pred[sample_number].numpy()[0]"
   ]
  },
  {
   "cell_type": "markdown",
   "metadata": {
    "id": "Fx878231wz4N"
   },
   "source": [
    "##### 3. Draw a confusion matrix for your model on test dataset. It is a 10x10 matrix, and in the cell `(i,j)` there is a number of digits `i` classified as digit `j`.[1]"
   ]
  },
  {
   "cell_type": "code",
   "execution_count": 81,
   "metadata": {
    "id": "Fx878231wz4N",
    "scrolled": true
   },
   "outputs": [],
   "source": [
    "@torch.no_grad()\n",
    "def get_all_preds(model, loader):\n",
    "    all_preds = torch.tensor([])\n",
    "    for batch in loader:\n",
    "        images, labels = batch\n",
    "\n",
    "        preds = model(images)\n",
    "        all_preds = torch.cat(\n",
    "            (all_preds, preds)\n",
    "            ,dim=0\n",
    "        )\n",
    "    return all_preds"
   ]
  },
  {
   "cell_type": "code",
   "execution_count": 82,
   "metadata": {
    "id": "Fx878231wz4N"
   },
   "outputs": [],
   "source": [
    "with torch.no_grad():\n",
    "    prediction_loader = torch.utils.data.DataLoader(train_dataset, batch_size=10000)\n",
    "    train_preds = get_all_preds(model, prediction_loader)"
   ]
  },
  {
   "cell_type": "code",
   "execution_count": 83,
   "metadata": {
    "id": "Fx878231wz4N"
   },
   "outputs": [
    {
     "data": {
      "text/plain": [
       "tensor([5, 0, 4,  ..., 5, 6, 8])"
      ]
     },
     "execution_count": 83,
     "metadata": {},
     "output_type": "execute_result"
    }
   ],
   "source": [
    "train_dataset.targets"
   ]
  },
  {
   "cell_type": "code",
   "execution_count": 84,
   "metadata": {
    "id": "Fx878231wz4N"
   },
   "outputs": [
    {
     "data": {
      "text/plain": [
       "tensor([5, 0, 4,  ..., 5, 6, 8])"
      ]
     },
     "execution_count": 84,
     "metadata": {},
     "output_type": "execute_result"
    }
   ],
   "source": [
    "train_preds.argmax(dim=1)"
   ]
  },
  {
   "cell_type": "code",
   "execution_count": 85,
   "metadata": {
    "id": "Fx878231wz4N"
   },
   "outputs": [
    {
     "data": {
      "text/plain": [
       "tensor([[5, 5],\n",
       "        [0, 0],\n",
       "        [4, 4],\n",
       "        ...,\n",
       "        [5, 5],\n",
       "        [6, 6],\n",
       "        [8, 8]])"
      ]
     },
     "execution_count": 85,
     "metadata": {},
     "output_type": "execute_result"
    }
   ],
   "source": [
    "stacked = torch.stack(\n",
    "    (\n",
    "        train_dataset.targets\n",
    "        ,train_preds.argmax(dim=1)\n",
    "    )\n",
    "    ,dim=1\n",
    ")\n",
    "\n",
    "stacked.shape\n",
    "torch.Size([60000, 2])\n",
    "\n",
    "stacked"
   ]
  },
  {
   "cell_type": "code",
   "execution_count": 86,
   "metadata": {
    "id": "Fx878231wz4N"
   },
   "outputs": [
    {
     "data": {
      "text/plain": [
       "[5, 5]"
      ]
     },
     "execution_count": 86,
     "metadata": {},
     "output_type": "execute_result"
    }
   ],
   "source": [
    "stacked[0].tolist()"
   ]
  },
  {
   "cell_type": "code",
   "execution_count": 87,
   "metadata": {
    "id": "Fx878231wz4N"
   },
   "outputs": [
    {
     "data": {
      "text/plain": [
       "tensor([[0, 0, 0, 0, 0, 0, 0, 0, 0, 0],\n",
       "        [0, 0, 0, 0, 0, 0, 0, 0, 0, 0],\n",
       "        [0, 0, 0, 0, 0, 0, 0, 0, 0, 0],\n",
       "        [0, 0, 0, 0, 0, 0, 0, 0, 0, 0],\n",
       "        [0, 0, 0, 0, 0, 0, 0, 0, 0, 0],\n",
       "        [0, 0, 0, 0, 0, 0, 0, 0, 0, 0],\n",
       "        [0, 0, 0, 0, 0, 0, 0, 0, 0, 0],\n",
       "        [0, 0, 0, 0, 0, 0, 0, 0, 0, 0],\n",
       "        [0, 0, 0, 0, 0, 0, 0, 0, 0, 0],\n",
       "        [0, 0, 0, 0, 0, 0, 0, 0, 0, 0]])"
      ]
     },
     "execution_count": 87,
     "metadata": {},
     "output_type": "execute_result"
    }
   ],
   "source": [
    "cmt = torch.zeros(10,10, dtype=torch.int64)\n",
    "cmt"
   ]
  },
  {
   "cell_type": "code",
   "execution_count": 88,
   "metadata": {
    "id": "Fx878231wz4N"
   },
   "outputs": [],
   "source": [
    "for p in stacked:\n",
    "    tl, pl = p.tolist()\n",
    "    cmt[tl, pl] = cmt[tl, pl] + 1"
   ]
  },
  {
   "cell_type": "code",
   "execution_count": 89,
   "metadata": {
    "id": "Fx878231wz4N"
   },
   "outputs": [
    {
     "data": {
      "text/plain": [
       "tensor([[5907,    1,    0,    2,    2,    0,    4,    0,    4,    3],\n",
       "        [   0, 6693,    8,    9,    5,    1,    1,   13,    4,    8],\n",
       "        [   3,    2, 5934,    4,    4,    0,    0,    5,    5,    1],\n",
       "        [   0,    0,   10, 6100,    1,    4,    0,    2,   10,    4],\n",
       "        [   2,    2,    3,    0, 5771,    0,    5,    2,    3,   54],\n",
       "        [   0,    0,    1,   24,    2, 5369,    9,    0,    8,    8],\n",
       "        [   9,    1,    2,    0,    6,    4, 5886,    0,   10,    0],\n",
       "        [   1,    6,    7,    5,    7,    0,    0, 6225,    1,   13],\n",
       "        [   3,    7,    2,   12,    0,    3,    1,    2, 5820,    1],\n",
       "        [   4,    1,    0,    5,   13,    1,    0,    8,    5, 5912]])"
      ]
     },
     "execution_count": 89,
     "metadata": {},
     "output_type": "execute_result"
    }
   ],
   "source": [
    "cmt"
   ]
  },
  {
   "cell_type": "code",
   "execution_count": 90,
   "metadata": {
    "id": "Fx878231wz4N"
   },
   "outputs": [
    {
     "name": "stdout",
     "output_type": "stream",
     "text": [
      "<class 'numpy.ndarray'>\n"
     ]
    },
    {
     "data": {
      "text/plain": [
       "array([[5907,    1,    0,    2,    2,    0,    4,    0,    4,    3],\n",
       "       [   0, 6693,    8,    9,    5,    1,    1,   13,    4,    8],\n",
       "       [   3,    2, 5934,    4,    4,    0,    0,    5,    5,    1],\n",
       "       [   0,    0,   10, 6100,    1,    4,    0,    2,   10,    4],\n",
       "       [   2,    2,    3,    0, 5771,    0,    5,    2,    3,   54],\n",
       "       [   0,    0,    1,   24,    2, 5369,    9,    0,    8,    8],\n",
       "       [   9,    1,    2,    0,    6,    4, 5886,    0,   10,    0],\n",
       "       [   1,    6,    7,    5,    7,    0,    0, 6225,    1,   13],\n",
       "       [   3,    7,    2,   12,    0,    3,    1,    2, 5820,    1],\n",
       "       [   4,    1,    0,    5,   13,    1,    0,    8,    5, 5912]])"
      ]
     },
     "execution_count": 90,
     "metadata": {},
     "output_type": "execute_result"
    }
   ],
   "source": [
    "cm = confusion_matrix(train_dataset.targets, train_preds.argmax(dim=1))\n",
    "print(type(cm))\n",
    "cm"
   ]
  },
  {
   "cell_type": "code",
   "execution_count": 91,
   "metadata": {
    "id": "Fx878231wz4N"
   },
   "outputs": [],
   "source": [
    "import itertools\n",
    "import numpy as np\n",
    "import matplotlib.pyplot as plt\n",
    "\n",
    "def plot_confusion_matrix(cm, classes, normalize=False, title='Confusion matrix', cmap=plt.cm.Blues):\n",
    "    if normalize:\n",
    "        cm = cm.astype('float') / cm.sum(axis=1)[:, np.newaxis]\n",
    "        print(\"Normalized confusion matrix\")\n",
    "    else:\n",
    "        print('Confusion matrix, without normalization')\n",
    "\n",
    "    print(cm)\n",
    "    plt.imshow(cm, interpolation='nearest', cmap=cmap)\n",
    "    plt.title(title)\n",
    "    plt.colorbar()\n",
    "    tick_marks = np.arange(len(classes))\n",
    "    plt.xticks(tick_marks, classes, rotation=45)\n",
    "    plt.yticks(tick_marks, classes)\n",
    "\n",
    "    fmt = '.2f' if normalize else 'd'\n",
    "    thresh = cm.max() / 2.\n",
    "    for i, j in itertools.product(range(cm.shape[0]), range(cm.shape[1])):\n",
    "        plt.text(j, i, format(cm[i, j], fmt), horizontalalignment=\"center\", color=\"white\" if cm[i, j] > thresh else \"black\")\n",
    "\n",
    "    plt.tight_layout()\n",
    "    plt.ylabel('True label')\n",
    "    plt.xlabel('Predicted label')\n",
    "    plt.show\n",
    "    "
   ]
  },
  {
   "cell_type": "code",
   "execution_count": 92,
   "metadata": {
    "id": "Fx878231wz4N"
   },
   "outputs": [
    {
     "name": "stdout",
     "output_type": "stream",
     "text": [
      "Confusion matrix, without normalization\n",
      "[[5907    1    0    2    2    0    4    0    4    3]\n",
      " [   0 6693    8    9    5    1    1   13    4    8]\n",
      " [   3    2 5934    4    4    0    0    5    5    1]\n",
      " [   0    0   10 6100    1    4    0    2   10    4]\n",
      " [   2    2    3    0 5771    0    5    2    3   54]\n",
      " [   0    0    1   24    2 5369    9    0    8    8]\n",
      " [   9    1    2    0    6    4 5886    0   10    0]\n",
      " [   1    6    7    5    7    0    0 6225    1   13]\n",
      " [   3    7    2   12    0    3    1    2 5820    1]\n",
      " [   4    1    0    5   13    1    0    8    5 5912]]\n"
     ]
    }
   ],
   "source": [
    "plt.figure(figsize=(10,10))\n",
    "plot_confusion_matrix(cm, train_dataset.classes)"
   ]
  },
  {
   "cell_type": "markdown",
   "metadata": {
    "id": "Fx878231wz4N"
   },
   "source": [
    "##### 4. By default weight of linear layer is initialized with `kaiming_uniform` function and bias is unitialized with `uniform` function (see reset parameters method of Linear class https://github.com/pytorch/pytorch/blob/master/torch/nn/modules/linear.py). Initialize all weights as `uniform(-0.1,0.1)` and test. How does this modification affect training process? Is it faster/slower? Is the end result better/worse? Same question form `uniform(-1, 1)`. Same question for `constant(0)` initialization. Don't forget to recreate optimizer for your new model (otherwise you'll optimize parameters of the old model using values from the new one, which does not work).[1]"
   ]
  },
  {
   "cell_type": "code",
   "execution_count": 93,
   "metadata": {
    "id": "Fx878231wz4N"
   },
   "outputs": [],
   "source": [
    "initialize_weight = 0.1\n",
    "\n",
    "class ChildLinear(nn.Linear):\n",
    "    def reset_parameters(self) -> None:\n",
    "        stdv = initialize_weight\n",
    "        self.weight.data.uniform_(-stdv, stdv)\n",
    "        if self.bias is not None:\n",
    "            self.bias.data.uniform_(-stdv, stdv)"
   ]
  },
  {
   "cell_type": "code",
   "execution_count": 94,
   "metadata": {
    "id": "iyfJfxlYiGY2"
   },
   "outputs": [],
   "source": [
    "model = nn.Sequential(Flatten(), \n",
    "                      ChildLinear(784, 512), \n",
    "                      nn.Tanh(),\n",
    "                      ChildLinear(512, 64), \n",
    "                      nn.Tanh(),\n",
    "                      ChildLinear(64, 10))"
   ]
  },
  {
   "cell_type": "code",
   "execution_count": 95,
   "metadata": {
    "id": "Fx878231wz4N",
    "scrolled": false
   },
   "outputs": [
    {
     "data": {
      "text/plain": [
       "Sequential(\n",
       "  (0): Flatten()\n",
       "  (1): ChildLinear(in_features=784, out_features=512, bias=True)\n",
       "  (2): Tanh()\n",
       "  (3): ChildLinear(in_features=512, out_features=64, bias=True)\n",
       "  (4): Tanh()\n",
       "  (5): ChildLinear(in_features=64, out_features=10, bias=True)\n",
       ")"
      ]
     },
     "execution_count": 95,
     "metadata": {},
     "output_type": "execute_result"
    }
   ],
   "source": [
    "optimizer = optim.SGD(model.parameters(), lr=0.1)\n",
    "model.apply(weight_reset)"
   ]
  },
  {
   "cell_type": "code",
   "execution_count": 96,
   "metadata": {
    "id": "Fx878231wz4N",
    "scrolled": true
   },
   "outputs": [
    {
     "name": "stdout",
     "output_type": "stream",
     "text": [
      "Train Epoch: 1 [0/60000 (0%)]\tLoss: 2.343165\n",
      "Train Epoch: 1 [12800/60000 (21%)]\tLoss: 0.343582\n",
      "Train Epoch: 1 [25600/60000 (43%)]\tLoss: 0.144371\n",
      "Train Epoch: 1 [38400/60000 (64%)]\tLoss: 0.166742\n",
      "Train Epoch: 1 [51200/60000 (85%)]\tLoss: 0.310330\n",
      "\n",
      "Test set: Average loss: 0.0025, Accuracy: 9526/10000 (95%)\n",
      "\n",
      "Train Epoch: 2 [0/60000 (0%)]\tLoss: 0.081811\n",
      "Train Epoch: 2 [12800/60000 (21%)]\tLoss: 0.155884\n",
      "Train Epoch: 2 [25600/60000 (43%)]\tLoss: 0.134297\n",
      "Train Epoch: 2 [38400/60000 (64%)]\tLoss: 0.081770\n",
      "Train Epoch: 2 [51200/60000 (85%)]\tLoss: 0.037153\n",
      "\n",
      "Test set: Average loss: 0.0017, Accuracy: 9681/10000 (97%)\n",
      "\n",
      "Train Epoch: 3 [0/60000 (0%)]\tLoss: 0.105415\n",
      "Train Epoch: 3 [12800/60000 (21%)]\tLoss: 0.078418\n",
      "Train Epoch: 3 [25600/60000 (43%)]\tLoss: 0.086743\n",
      "Train Epoch: 3 [38400/60000 (64%)]\tLoss: 0.046567\n",
      "Train Epoch: 3 [51200/60000 (85%)]\tLoss: 0.025844\n",
      "\n",
      "Test set: Average loss: 0.0015, Accuracy: 9683/10000 (97%)\n",
      "\n",
      "Train Epoch: 4 [0/60000 (0%)]\tLoss: 0.055795\n",
      "Train Epoch: 4 [12800/60000 (21%)]\tLoss: 0.083657\n",
      "Train Epoch: 4 [25600/60000 (43%)]\tLoss: 0.052304\n",
      "Train Epoch: 4 [38400/60000 (64%)]\tLoss: 0.074221\n",
      "Train Epoch: 4 [51200/60000 (85%)]\tLoss: 0.024838\n",
      "\n",
      "Test set: Average loss: 0.0012, Accuracy: 9757/10000 (98%)\n",
      "\n",
      "CPU times: user 3min 54s, sys: 312 ms, total: 3min 54s\n",
      "Wall time: 29.5 s\n"
     ]
    }
   ],
   "source": [
    "%%time\n",
    "for epoch in range(1, 5):\n",
    "    train(model, train_loader, optimizer, loss_function, epoch)\n",
    "    incorrect_pred_idx, incorrect_pred = pred_list = test(model, test_loader, loss_function)"
   ]
  },
  {
   "cell_type": "markdown",
   "metadata": {
    "id": "Fx878231wz4N"
   },
   "source": [
    "\"initialize_weight = 0.1\"\n",
    "\n",
    "##### How does this affect the training process?\n",
    "\n",
    "- training deep models is a sufficiently difficult task that most algorithms are strongly affected by the choice of initialization. The initial point can determine whether the algorithm converges at all, with some initial points being so unstable that the algorithm encounters numerical difficulties and fails altogether.\n",
    "\n",
    "##### Is it faster slower?\n",
    "\n",
    "- The time it takes for 4 epochs is 2 seconds less, maybe it is closer to the best weights this particular initialization.\n",
    "\n",
    "##### Is the result better or worse?\n",
    "\n",
    "The result is almost equal"
   ]
  },
  {
   "cell_type": "code",
   "execution_count": 97,
   "metadata": {
    "id": "Fx878231wz4N"
   },
   "outputs": [],
   "source": [
    "initialize_weight = 1\n",
    "\n",
    "class ChildLinear(nn.Linear):\n",
    "    def reset_parameters(self) -> None:\n",
    "        stdv = initialize_weight\n",
    "        self.weight.data.uniform_(-stdv, stdv)\n",
    "        if self.bias is not None:\n",
    "            self.bias.data.uniform_(-stdv, stdv)"
   ]
  },
  {
   "cell_type": "code",
   "execution_count": 98,
   "metadata": {
    "id": "iyfJfxlYiGY2"
   },
   "outputs": [],
   "source": [
    "model = nn.Sequential(Flatten(), \n",
    "                      ChildLinear(784, 512), \n",
    "                      nn.Tanh(),\n",
    "                      ChildLinear(512, 64), \n",
    "                      nn.Tanh(),\n",
    "                      ChildLinear(64, 10))"
   ]
  },
  {
   "cell_type": "code",
   "execution_count": 99,
   "metadata": {
    "id": "Fx878231wz4N",
    "scrolled": false
   },
   "outputs": [
    {
     "data": {
      "text/plain": [
       "Sequential(\n",
       "  (0): Flatten()\n",
       "  (1): ChildLinear(in_features=784, out_features=512, bias=True)\n",
       "  (2): Tanh()\n",
       "  (3): ChildLinear(in_features=512, out_features=64, bias=True)\n",
       "  (4): Tanh()\n",
       "  (5): ChildLinear(in_features=64, out_features=10, bias=True)\n",
       ")"
      ]
     },
     "execution_count": 99,
     "metadata": {},
     "output_type": "execute_result"
    }
   ],
   "source": [
    "optimizer = optim.SGD(model.parameters(), lr=0.1)\n",
    "model.apply(weight_reset)"
   ]
  },
  {
   "cell_type": "code",
   "execution_count": 100,
   "metadata": {
    "id": "Fx878231wz4N"
   },
   "outputs": [
    {
     "name": "stdout",
     "output_type": "stream",
     "text": [
      "Train Epoch: 1 [0/60000 (0%)]\tLoss: 6.795565\n",
      "Train Epoch: 1 [12800/60000 (21%)]\tLoss: 1.103507\n",
      "Train Epoch: 1 [25600/60000 (43%)]\tLoss: 0.556525\n",
      "Train Epoch: 1 [38400/60000 (64%)]\tLoss: 0.720253\n",
      "Train Epoch: 1 [51200/60000 (85%)]\tLoss: 0.566370\n",
      "\n",
      "Test set: Average loss: 0.0087, Accuracy: 8295/10000 (83%)\n",
      "\n",
      "Train Epoch: 2 [0/60000 (0%)]\tLoss: 0.479869\n",
      "Train Epoch: 2 [12800/60000 (21%)]\tLoss: 0.205330\n",
      "Train Epoch: 2 [25600/60000 (43%)]\tLoss: 0.472322\n",
      "Train Epoch: 2 [38400/60000 (64%)]\tLoss: 0.487053\n",
      "Train Epoch: 2 [51200/60000 (85%)]\tLoss: 0.513957\n",
      "\n",
      "Test set: Average loss: 0.0069, Accuracy: 8653/10000 (87%)\n",
      "\n",
      "Train Epoch: 3 [0/60000 (0%)]\tLoss: 0.234398\n",
      "Train Epoch: 3 [12800/60000 (21%)]\tLoss: 0.389848\n",
      "Train Epoch: 3 [25600/60000 (43%)]\tLoss: 0.270156\n",
      "Train Epoch: 3 [38400/60000 (64%)]\tLoss: 0.507949\n",
      "Train Epoch: 3 [51200/60000 (85%)]\tLoss: 0.457986\n",
      "\n",
      "Test set: Average loss: 0.0063, Accuracy: 8776/10000 (88%)\n",
      "\n",
      "Train Epoch: 4 [0/60000 (0%)]\tLoss: 0.200086\n",
      "Train Epoch: 4 [12800/60000 (21%)]\tLoss: 0.350776\n",
      "Train Epoch: 4 [25600/60000 (43%)]\tLoss: 0.406122\n",
      "Train Epoch: 4 [38400/60000 (64%)]\tLoss: 0.165654\n",
      "Train Epoch: 4 [51200/60000 (85%)]\tLoss: 0.218006\n",
      "\n",
      "Test set: Average loss: 0.0060, Accuracy: 8844/10000 (88%)\n",
      "\n",
      "CPU times: user 3min 52s, sys: 396 ms, total: 3min 53s\n",
      "Wall time: 29.3 s\n"
     ]
    }
   ],
   "source": [
    "%%time\n",
    "for epoch in range(1, 5):\n",
    "    train(model, train_loader, optimizer, loss_function, epoch)\n",
    "    test(model, test_loader, loss_function)"
   ]
  },
  {
   "cell_type": "markdown",
   "metadata": {
    "id": "Fx878231wz4N"
   },
   "source": [
    "\"initialize_weight = 1\"\n",
    "\n",
    "##### How does this affect the training process?\n",
    "\n",
    "- This modification ruins the convergence of the training process as the accuracy stays around 89%, so we lost about 9%\n",
    "\n",
    "##### Is it faster slower?\n",
    "\n",
    "- The time it takes is also longer, probably because the initial weights are far from the ideal values it takes longer to converge\n",
    "\n",
    "##### Is the result better or worse?\n",
    "\n",
    "As the accuracy does not converge beyond 89% in 4 epochs, so the result is a lot worse"
   ]
  },
  {
   "cell_type": "code",
   "execution_count": 101,
   "metadata": {
    "id": "Fx878231wz4N"
   },
   "outputs": [],
   "source": [
    "initialize_weight = 0\n",
    "\n",
    "class ChildLinear(nn.Linear):\n",
    "    def reset_parameters(self) -> None:\n",
    "        stdv = initialize_weight\n",
    "        self.weight.data.uniform_(-stdv, stdv)\n",
    "        if self.bias is not None:\n",
    "            self.bias.data.uniform_(-stdv, stdv)"
   ]
  },
  {
   "cell_type": "code",
   "execution_count": 102,
   "metadata": {
    "id": "iyfJfxlYiGY2"
   },
   "outputs": [],
   "source": [
    "model = nn.Sequential(Flatten(), \n",
    "                      ChildLinear(784, 512), \n",
    "                      nn.Tanh(),\n",
    "                      ChildLinear(512, 64), \n",
    "                      nn.Tanh(),\n",
    "                      ChildLinear(64, 10))"
   ]
  },
  {
   "cell_type": "code",
   "execution_count": 103,
   "metadata": {
    "id": "Fx878231wz4N",
    "scrolled": false
   },
   "outputs": [
    {
     "data": {
      "text/plain": [
       "Sequential(\n",
       "  (0): Flatten()\n",
       "  (1): ChildLinear(in_features=784, out_features=512, bias=True)\n",
       "  (2): Tanh()\n",
       "  (3): ChildLinear(in_features=512, out_features=64, bias=True)\n",
       "  (4): Tanh()\n",
       "  (5): ChildLinear(in_features=64, out_features=10, bias=True)\n",
       ")"
      ]
     },
     "execution_count": 103,
     "metadata": {},
     "output_type": "execute_result"
    }
   ],
   "source": [
    "optimizer = optim.SGD(model.parameters(), lr=0.1)\n",
    "model.apply(weight_reset)"
   ]
  },
  {
   "cell_type": "code",
   "execution_count": 104,
   "metadata": {
    "id": "Fx878231wz4N",
    "scrolled": true
   },
   "outputs": [
    {
     "name": "stdout",
     "output_type": "stream",
     "text": [
      "Train Epoch: 1 [0/60000 (0%)]\tLoss: 2.302583\n",
      "Train Epoch: 1 [12800/60000 (21%)]\tLoss: 2.292323\n",
      "Train Epoch: 1 [25600/60000 (43%)]\tLoss: 2.305702\n",
      "Train Epoch: 1 [38400/60000 (64%)]\tLoss: 2.311464\n",
      "Train Epoch: 1 [51200/60000 (85%)]\tLoss: 2.305421\n",
      "\n",
      "Test set: Average loss: 0.0361, Accuracy: 1135/10000 (11%)\n",
      "\n",
      "Train Epoch: 2 [0/60000 (0%)]\tLoss: 2.297701\n",
      "Train Epoch: 2 [12800/60000 (21%)]\tLoss: 2.307256\n",
      "Train Epoch: 2 [25600/60000 (43%)]\tLoss: 2.295778\n",
      "Train Epoch: 2 [38400/60000 (64%)]\tLoss: 2.306251\n",
      "Train Epoch: 2 [51200/60000 (85%)]\tLoss: 2.295137\n",
      "\n",
      "Test set: Average loss: 0.0361, Accuracy: 1135/10000 (11%)\n",
      "\n",
      "Train Epoch: 3 [0/60000 (0%)]\tLoss: 2.315510\n",
      "Train Epoch: 3 [12800/60000 (21%)]\tLoss: 2.320227\n",
      "Train Epoch: 3 [25600/60000 (43%)]\tLoss: 2.304078\n",
      "Train Epoch: 3 [38400/60000 (64%)]\tLoss: 2.308393\n",
      "Train Epoch: 3 [51200/60000 (85%)]\tLoss: 2.302799\n",
      "\n",
      "Test set: Average loss: 0.0361, Accuracy: 1135/10000 (11%)\n",
      "\n",
      "Train Epoch: 4 [0/60000 (0%)]\tLoss: 2.308627\n",
      "Train Epoch: 4 [12800/60000 (21%)]\tLoss: 2.300148\n",
      "Train Epoch: 4 [25600/60000 (43%)]\tLoss: 2.296325\n",
      "Train Epoch: 4 [38400/60000 (64%)]\tLoss: 2.306336\n",
      "Train Epoch: 4 [51200/60000 (85%)]\tLoss: 2.295325\n",
      "\n",
      "Test set: Average loss: 0.0361, Accuracy: 1135/10000 (11%)\n",
      "\n",
      "CPU times: user 3min 51s, sys: 400 ms, total: 3min 51s\n",
      "Wall time: 29.1 s\n"
     ]
    }
   ],
   "source": [
    "%%time\n",
    "for epoch in range(1, 5):\n",
    "    train(model, train_loader, optimizer, loss_function, epoch)\n",
    "    test(model, test_loader, loss_function)"
   ]
  },
  {
   "cell_type": "markdown",
   "metadata": {
    "id": "Fx878231wz4N"
   },
   "source": [
    "\"initialize_weight = 0\"\n",
    "\n",
    "##### How does this affect the training process?\n",
    "\n",
    "- This modification ruins the convergence of the training process as the accuracy stays around 11%\n",
    "- This could be cause if the initial weights are zero, then the network can barely detect those neurons.\n",
    "\n",
    "##### Is it faster slower?\n",
    "\n",
    "- The time it takes for 4 epochs is equal to the previous case\n",
    "\n",
    "##### Is the result better or worse?\n",
    "\n",
    "As the accuracy does not converge beyond 11% the result is a lot worse"
   ]
  },
  {
   "cell_type": "markdown",
   "metadata": {
    "id": "Fx878231wz4N"
   },
   "source": [
    "##### 5. Try replacing `Tanh` activation by `Sigmoid` test, how does this modification affect training process? These and further questions assumes that you are changing the initial model (i.e. all modification from previous step are undone). [1]"
   ]
  },
  {
   "cell_type": "code",
   "execution_count": 105,
   "metadata": {
    "id": "iyfJfxlYiGY2"
   },
   "outputs": [],
   "source": [
    "model = nn.Sequential(Flatten(), \n",
    "                      nn.Linear(784, 512), \n",
    "                      nn.Sigmoid(),\n",
    "                      nn.Linear(512, 64), \n",
    "                      nn.Sigmoid(),\n",
    "                      nn.Linear(64, 10))\n",
    "for param in model.parameters():\n",
    "    init.uniform_(param, -0.1, 0.1)"
   ]
  },
  {
   "cell_type": "code",
   "execution_count": 106,
   "metadata": {
    "id": "Fx878231wz4N",
    "scrolled": false
   },
   "outputs": [
    {
     "data": {
      "text/plain": [
       "Sequential(\n",
       "  (0): Flatten()\n",
       "  (1): Linear(in_features=784, out_features=512, bias=True)\n",
       "  (2): Sigmoid()\n",
       "  (3): Linear(in_features=512, out_features=64, bias=True)\n",
       "  (4): Sigmoid()\n",
       "  (5): Linear(in_features=64, out_features=10, bias=True)\n",
       ")"
      ]
     },
     "execution_count": 106,
     "metadata": {},
     "output_type": "execute_result"
    }
   ],
   "source": [
    "optimizer = optim.SGD(model.parameters(), lr=0.1)\n",
    "model.apply(weight_reset)"
   ]
  },
  {
   "cell_type": "code",
   "execution_count": 107,
   "metadata": {
    "id": "Fx878231wz4N"
   },
   "outputs": [
    {
     "name": "stdout",
     "output_type": "stream",
     "text": [
      "Train Epoch: 1 [0/60000 (0%)]\tLoss: 2.367258\n",
      "Train Epoch: 1 [12800/60000 (21%)]\tLoss: 1.719022\n",
      "Train Epoch: 1 [25600/60000 (43%)]\tLoss: 0.825644\n",
      "Train Epoch: 1 [38400/60000 (64%)]\tLoss: 0.531809\n",
      "Train Epoch: 1 [51200/60000 (85%)]\tLoss: 0.379528\n",
      "\n",
      "Test set: Average loss: 0.0066, Accuracy: 8811/10000 (88%)\n",
      "\n",
      "Train Epoch: 2 [0/60000 (0%)]\tLoss: 0.404370\n",
      "Train Epoch: 2 [12800/60000 (21%)]\tLoss: 0.359103\n",
      "Train Epoch: 2 [25600/60000 (43%)]\tLoss: 0.283456\n",
      "Train Epoch: 2 [38400/60000 (64%)]\tLoss: 0.337693\n",
      "Train Epoch: 2 [51200/60000 (85%)]\tLoss: 0.229880\n",
      "\n",
      "Test set: Average loss: 0.0048, Accuracy: 9117/10000 (91%)\n",
      "\n",
      "Train Epoch: 3 [0/60000 (0%)]\tLoss: 0.174228\n",
      "Train Epoch: 3 [12800/60000 (21%)]\tLoss: 0.321189\n",
      "Train Epoch: 3 [25600/60000 (43%)]\tLoss: 0.215667\n",
      "Train Epoch: 3 [38400/60000 (64%)]\tLoss: 0.338313\n",
      "Train Epoch: 3 [51200/60000 (85%)]\tLoss: 0.160220\n",
      "\n",
      "Test set: Average loss: 0.0041, Accuracy: 9238/10000 (92%)\n",
      "\n",
      "Train Epoch: 4 [0/60000 (0%)]\tLoss: 0.121837\n",
      "Train Epoch: 4 [12800/60000 (21%)]\tLoss: 0.252722\n",
      "Train Epoch: 4 [25600/60000 (43%)]\tLoss: 0.365929\n",
      "Train Epoch: 4 [38400/60000 (64%)]\tLoss: 0.191532\n",
      "Train Epoch: 4 [51200/60000 (85%)]\tLoss: 0.313052\n",
      "\n",
      "Test set: Average loss: 0.0034, Accuracy: 9369/10000 (94%)\n",
      "\n",
      "CPU times: user 3min 41s, sys: 44.2 ms, total: 3min 42s\n",
      "Wall time: 27.8 s\n"
     ]
    }
   ],
   "source": [
    "%%time\n",
    "for epoch in range(1, 5):\n",
    "    train(model, train_loader, optimizer, loss_function, epoch)\n",
    "    test(model, test_loader, loss_function)"
   ]
  },
  {
   "cell_type": "markdown",
   "metadata": {
    "id": "Fx878231wz4N"
   },
   "source": [
    "\"Sigmoid\"\n",
    "\n",
    "##### How does this affect the training process?\n",
    "\n",
    "- The sigmoid function appears in the output layer of the deep learning models and is used for predicting probability-based outputs.\n",
    "- Some of the major drawbacks of the sigmoid function include gradient saturation, slow convergence, sharp damp gradients during backpropagation from within deeper hidden layers to the input layers, and non-zero centered output that causes the gradient updates to propagate in varying directions.\n",
    "\n",
    "##### Is it faster slower?\n",
    "\n",
    "- The time is 2 seconds faster than our base model\n",
    "\n",
    "##### Is the result better or worse?\n",
    "\n",
    "As the accuracy does not converge beyond 94%, compared to 98% the result is a lot worse"
   ]
  },
  {
   "cell_type": "markdown",
   "metadata": {
    "id": "Fx878231wz4N"
   },
   "source": [
    "##### 6. Try changing output dimension of the first linear layer  (and input of the second) to `256`, to `1024`. How does this modification affect training process? How does the number of model parameters changes? [1]"
   ]
  },
  {
   "cell_type": "code",
   "execution_count": 108,
   "metadata": {
    "id": "iyfJfxlYiGY2"
   },
   "outputs": [],
   "source": [
    "model = nn.Sequential(Flatten(), \n",
    "                      nn.Linear(784, 256), \n",
    "                      nn.Tanh(),\n",
    "                      nn.Linear(256, 64), \n",
    "                      nn.Tanh(),\n",
    "                      nn.Linear(64, 10))\n",
    "for param in model.parameters():\n",
    "    init.uniform_(param, -0.1, 0.1)"
   ]
  },
  {
   "cell_type": "code",
   "execution_count": 109,
   "metadata": {
    "id": "Fx878231wz4N",
    "scrolled": false
   },
   "outputs": [
    {
     "data": {
      "text/plain": [
       "Sequential(\n",
       "  (0): Flatten()\n",
       "  (1): Linear(in_features=784, out_features=256, bias=True)\n",
       "  (2): Tanh()\n",
       "  (3): Linear(in_features=256, out_features=64, bias=True)\n",
       "  (4): Tanh()\n",
       "  (5): Linear(in_features=64, out_features=10, bias=True)\n",
       ")"
      ]
     },
     "execution_count": 109,
     "metadata": {},
     "output_type": "execute_result"
    }
   ],
   "source": [
    "optimizer = optim.SGD(model.parameters(), lr=0.1)\n",
    "model.apply(weight_reset)"
   ]
  },
  {
   "cell_type": "code",
   "execution_count": 110,
   "metadata": {
    "id": "Fx878231wz4N",
    "scrolled": true
   },
   "outputs": [
    {
     "name": "stdout",
     "output_type": "stream",
     "text": [
      "Train Epoch: 1 [0/60000 (0%)]\tLoss: 2.304728\n",
      "Train Epoch: 1 [12800/60000 (21%)]\tLoss: 0.379752\n",
      "Train Epoch: 1 [25600/60000 (43%)]\tLoss: 0.371282\n",
      "Train Epoch: 1 [38400/60000 (64%)]\tLoss: 0.185952\n",
      "Train Epoch: 1 [51200/60000 (85%)]\tLoss: 0.244285\n",
      "\n",
      "Test set: Average loss: 0.0032, Accuracy: 9382/10000 (94%)\n",
      "\n",
      "Train Epoch: 2 [0/60000 (0%)]\tLoss: 0.225197\n",
      "Train Epoch: 2 [12800/60000 (21%)]\tLoss: 0.118574\n",
      "Train Epoch: 2 [25600/60000 (43%)]\tLoss: 0.115873\n",
      "Train Epoch: 2 [38400/60000 (64%)]\tLoss: 0.042513\n",
      "Train Epoch: 2 [51200/60000 (85%)]\tLoss: 0.097945\n",
      "\n",
      "Test set: Average loss: 0.0017, Accuracy: 9654/10000 (97%)\n",
      "\n",
      "Train Epoch: 3 [0/60000 (0%)]\tLoss: 0.054184\n",
      "Train Epoch: 3 [12800/60000 (21%)]\tLoss: 0.075638\n",
      "Train Epoch: 3 [25600/60000 (43%)]\tLoss: 0.071556\n",
      "Train Epoch: 3 [38400/60000 (64%)]\tLoss: 0.071817\n",
      "Train Epoch: 3 [51200/60000 (85%)]\tLoss: 0.045486\n",
      "\n",
      "Test set: Average loss: 0.0017, Accuracy: 9679/10000 (97%)\n",
      "\n",
      "Train Epoch: 4 [0/60000 (0%)]\tLoss: 0.106961\n",
      "Train Epoch: 4 [12800/60000 (21%)]\tLoss: 0.045213\n",
      "Train Epoch: 4 [25600/60000 (43%)]\tLoss: 0.016056\n",
      "Train Epoch: 4 [38400/60000 (64%)]\tLoss: 0.020771\n",
      "Train Epoch: 4 [51200/60000 (85%)]\tLoss: 0.077446\n",
      "\n",
      "Test set: Average loss: 0.0013, Accuracy: 9730/10000 (97%)\n",
      "\n",
      "CPU times: user 3min 49s, sys: 647 ms, total: 3min 50s\n",
      "Wall time: 29.1 s\n"
     ]
    }
   ],
   "source": [
    "%%time\n",
    "for epoch in range(1, 5):\n",
    "    train(model, train_loader, optimizer, loss_function, epoch)\n",
    "    test(model, test_loader, loss_function)"
   ]
  },
  {
   "cell_type": "markdown",
   "metadata": {
    "id": "Fx878231wz4N"
   },
   "source": [
    "\"First linear layer output 256\"\n",
    "\n",
    "##### How does this affect the training process?\n",
    "\n",
    "- There are some empirically-derived rules-of-thumb, of these, the most commonly relied on is 'the optimal size of the hidden layer is usually between the size of the input and size of the output layers'\n",
    "- Therefore a choice of 256 is a fine choice as it is between the size of the input layer and the output layer\n",
    "\n",
    "##### Is it faster slower?\n",
    "\n",
    "- Equal for reasons stated above\n",
    "\n",
    "##### Is the result better or worse?\n",
    "\n",
    "- Equal for reasons stated above"
   ]
  },
  {
   "cell_type": "code",
   "execution_count": 111,
   "metadata": {
    "id": "iyfJfxlYiGY2"
   },
   "outputs": [],
   "source": [
    "model = nn.Sequential(Flatten(), \n",
    "                      nn.Linear(784, 1024), \n",
    "                      nn.Tanh(),\n",
    "                      nn.Linear(1024, 64), \n",
    "                      nn.Tanh(),\n",
    "                      nn.Linear(64, 10))\n",
    "for param in model.parameters():\n",
    "    init.uniform_(param, -0.1, 0.1)"
   ]
  },
  {
   "cell_type": "code",
   "execution_count": 112,
   "metadata": {
    "id": "Fx878231wz4N",
    "scrolled": false
   },
   "outputs": [
    {
     "data": {
      "text/plain": [
       "Sequential(\n",
       "  (0): Flatten()\n",
       "  (1): Linear(in_features=784, out_features=1024, bias=True)\n",
       "  (2): Tanh()\n",
       "  (3): Linear(in_features=1024, out_features=64, bias=True)\n",
       "  (4): Tanh()\n",
       "  (5): Linear(in_features=64, out_features=10, bias=True)\n",
       ")"
      ]
     },
     "execution_count": 112,
     "metadata": {},
     "output_type": "execute_result"
    }
   ],
   "source": [
    "optimizer = optim.SGD(model.parameters(), lr=0.1)\n",
    "model.apply(weight_reset)"
   ]
  },
  {
   "cell_type": "code",
   "execution_count": 113,
   "metadata": {
    "id": "Fx878231wz4N",
    "scrolled": true
   },
   "outputs": [
    {
     "name": "stdout",
     "output_type": "stream",
     "text": [
      "Train Epoch: 1 [0/60000 (0%)]\tLoss: 2.302829\n",
      "Train Epoch: 1 [12800/60000 (21%)]\tLoss: 0.305933\n",
      "Train Epoch: 1 [25600/60000 (43%)]\tLoss: 0.375704\n",
      "Train Epoch: 1 [38400/60000 (64%)]\tLoss: 0.121127\n",
      "Train Epoch: 1 [51200/60000 (85%)]\tLoss: 0.136274\n",
      "\n",
      "Test set: Average loss: 0.0029, Accuracy: 9454/10000 (95%)\n",
      "\n",
      "Train Epoch: 2 [0/60000 (0%)]\tLoss: 0.313441\n",
      "Train Epoch: 2 [12800/60000 (21%)]\tLoss: 0.189958\n",
      "Train Epoch: 2 [25600/60000 (43%)]\tLoss: 0.172870\n",
      "Train Epoch: 2 [38400/60000 (64%)]\tLoss: 0.141929\n",
      "Train Epoch: 2 [51200/60000 (85%)]\tLoss: 0.123993\n",
      "\n",
      "Test set: Average loss: 0.0019, Accuracy: 9636/10000 (96%)\n",
      "\n",
      "Train Epoch: 3 [0/60000 (0%)]\tLoss: 0.041029\n",
      "Train Epoch: 3 [12800/60000 (21%)]\tLoss: 0.046995\n",
      "Train Epoch: 3 [25600/60000 (43%)]\tLoss: 0.080758\n",
      "Train Epoch: 3 [38400/60000 (64%)]\tLoss: 0.108342\n",
      "Train Epoch: 3 [51200/60000 (85%)]\tLoss: 0.091366\n",
      "\n",
      "Test set: Average loss: 0.0015, Accuracy: 9707/10000 (97%)\n",
      "\n",
      "Train Epoch: 4 [0/60000 (0%)]\tLoss: 0.022703\n",
      "Train Epoch: 4 [12800/60000 (21%)]\tLoss: 0.069471\n",
      "Train Epoch: 4 [25600/60000 (43%)]\tLoss: 0.026546\n",
      "Train Epoch: 4 [38400/60000 (64%)]\tLoss: 0.047121\n",
      "Train Epoch: 4 [51200/60000 (85%)]\tLoss: 0.042804\n",
      "\n",
      "Test set: Average loss: 0.0013, Accuracy: 9748/10000 (97%)\n",
      "\n",
      "CPU times: user 4min 3s, sys: 132 ms, total: 4min 3s\n",
      "Wall time: 30.5 s\n"
     ]
    }
   ],
   "source": [
    "%%time\n",
    "for epoch in range(1, 5):\n",
    "    train(model, train_loader, optimizer, loss_function, epoch)\n",
    "    test(model, test_loader, loss_function)"
   ]
  },
  {
   "cell_type": "markdown",
   "metadata": {
    "id": "Fx878231wz4N"
   },
   "source": [
    "\"First linear layer output 1024\"\n",
    "\n",
    "##### How does this affect the training process?\n",
    "\n",
    "- A layer in between the input and output layer larger or lower than in the size of the input or output layer is bad practice and should be avoided.\n",
    "- This can reduce the model complexity when optimizing the neural network, as all the information will have to pass these layers were it will diverge (or converge over a few neurons).\n",
    "\n",
    "##### Is it faster slower?\n",
    "\n",
    "- The time it takes for 4 epochs is longer than the benchmark base model\n",
    "\n",
    "##### Is the result better or worse?\n",
    "\n",
    "As the accuracy does not converge beyond 97% the result is a bit worse, which makes sense because 1024 is not that much bigger than 784"
   ]
  },
  {
   "cell_type": "markdown",
   "metadata": {
    "id": "Fx878231wz4N"
   },
   "source": [
    "##### 7. Our model has 2 hidden layers of sizes `512` and `64`. Let's use 3 hidden layers of sizes `512`, `256` and `64`.  How does this modification affect training process? How does the number of model parameters changes? Same question for 3 layers of sizes `512`, `5` and `64`(don't forget to add activation function between linear layers). [1]"
   ]
  },
  {
   "cell_type": "code",
   "execution_count": 114,
   "metadata": {
    "id": "iyfJfxlYiGY2"
   },
   "outputs": [],
   "source": [
    "model = nn.Sequential(Flatten(), \n",
    "                      nn.Linear(784, 512), \n",
    "                      nn.Tanh(),\n",
    "                      nn.Linear(512, 64), \n",
    "                      nn.Tanh(),\n",
    "                      nn.Linear(64, 32),\n",
    "                      nn.Tanh(),\n",
    "                      nn.Linear(32, 10))\n",
    "for param in model.parameters():\n",
    "    init.uniform_(param, -0.1, 0.1)"
   ]
  },
  {
   "cell_type": "code",
   "execution_count": 115,
   "metadata": {
    "id": "Fx878231wz4N",
    "scrolled": false
   },
   "outputs": [
    {
     "data": {
      "text/plain": [
       "Sequential(\n",
       "  (0): Flatten()\n",
       "  (1): Linear(in_features=784, out_features=512, bias=True)\n",
       "  (2): Tanh()\n",
       "  (3): Linear(in_features=512, out_features=64, bias=True)\n",
       "  (4): Tanh()\n",
       "  (5): Linear(in_features=64, out_features=32, bias=True)\n",
       "  (6): Tanh()\n",
       "  (7): Linear(in_features=32, out_features=10, bias=True)\n",
       ")"
      ]
     },
     "execution_count": 115,
     "metadata": {},
     "output_type": "execute_result"
    }
   ],
   "source": [
    "optimizer = optim.SGD(model.parameters(), lr=0.1)\n",
    "model.apply(weight_reset)"
   ]
  },
  {
   "cell_type": "code",
   "execution_count": 116,
   "metadata": {
    "id": "Fx878231wz4N",
    "scrolled": true
   },
   "outputs": [
    {
     "name": "stdout",
     "output_type": "stream",
     "text": [
      "Train Epoch: 1 [0/60000 (0%)]\tLoss: 2.315372\n",
      "Train Epoch: 1 [12800/60000 (21%)]\tLoss: 0.372823\n",
      "Train Epoch: 1 [25600/60000 (43%)]\tLoss: 0.379658\n",
      "Train Epoch: 1 [38400/60000 (64%)]\tLoss: 0.429258\n",
      "Train Epoch: 1 [51200/60000 (85%)]\tLoss: 0.147671\n",
      "\n",
      "Test set: Average loss: 0.0031, Accuracy: 9432/10000 (94%)\n",
      "\n",
      "Train Epoch: 2 [0/60000 (0%)]\tLoss: 0.158432\n",
      "Train Epoch: 2 [12800/60000 (21%)]\tLoss: 0.301684\n",
      "Train Epoch: 2 [25600/60000 (43%)]\tLoss: 0.131890\n",
      "Train Epoch: 2 [38400/60000 (64%)]\tLoss: 0.051637\n",
      "Train Epoch: 2 [51200/60000 (85%)]\tLoss: 0.234587\n",
      "\n",
      "Test set: Average loss: 0.0018, Accuracy: 9666/10000 (97%)\n",
      "\n",
      "Train Epoch: 3 [0/60000 (0%)]\tLoss: 0.126603\n",
      "Train Epoch: 3 [12800/60000 (21%)]\tLoss: 0.131010\n",
      "Train Epoch: 3 [25600/60000 (43%)]\tLoss: 0.123313\n",
      "Train Epoch: 3 [38400/60000 (64%)]\tLoss: 0.150254\n",
      "Train Epoch: 3 [51200/60000 (85%)]\tLoss: 0.068375\n",
      "\n",
      "Test set: Average loss: 0.0015, Accuracy: 9692/10000 (97%)\n",
      "\n",
      "Train Epoch: 4 [0/60000 (0%)]\tLoss: 0.027396\n",
      "Train Epoch: 4 [12800/60000 (21%)]\tLoss: 0.099201\n",
      "Train Epoch: 4 [25600/60000 (43%)]\tLoss: 0.030733\n",
      "Train Epoch: 4 [38400/60000 (64%)]\tLoss: 0.016886\n",
      "Train Epoch: 4 [51200/60000 (85%)]\tLoss: 0.033103\n",
      "\n",
      "Test set: Average loss: 0.0013, Accuracy: 9745/10000 (97%)\n",
      "\n",
      "CPU times: user 3min 51s, sys: 416 ms, total: 3min 52s\n",
      "Wall time: 29.2 s\n"
     ]
    }
   ],
   "source": [
    "%%time\n",
    "for epoch in range(1, 5):\n",
    "    train(model, train_loader, optimizer, loss_function, epoch)\n",
    "    test(model, test_loader, loss_function)"
   ]
  },
  {
   "cell_type": "markdown",
   "metadata": {
    "id": "Fx878231wz4N"
   },
   "source": [
    "\"Add  3 hidden layers of sizes `512`, `256` and `64`. \"\n",
    "\n",
    "##### How does this affect the training process?\n",
    "\n",
    "- This modification is fine according to the rules of thumb\n",
    "\n",
    "##### Is it faster slower?\n",
    "\n",
    "- Equal\n",
    "\n",
    "##### Is the result better or worse?\n",
    "\n",
    "- Equal"
   ]
  },
  {
   "cell_type": "code",
   "execution_count": 117,
   "metadata": {
    "id": "iyfJfxlYiGY2"
   },
   "outputs": [],
   "source": [
    "model = nn.Sequential(Flatten(), \n",
    "                      nn.Linear(784, 512), \n",
    "                      nn.Tanh(),\n",
    "                      nn.Linear(512, 5), \n",
    "                      nn.Tanh(),\n",
    "                      nn.Linear(5, 64),\n",
    "                      nn.Tanh(),\n",
    "                      nn.Linear(64, 10))\n",
    "for param in model.parameters():\n",
    "    init.uniform_(param, -0.1, 0.1)"
   ]
  },
  {
   "cell_type": "code",
   "execution_count": 118,
   "metadata": {
    "id": "Fx878231wz4N",
    "scrolled": false
   },
   "outputs": [
    {
     "data": {
      "text/plain": [
       "Sequential(\n",
       "  (0): Flatten()\n",
       "  (1): Linear(in_features=784, out_features=512, bias=True)\n",
       "  (2): Tanh()\n",
       "  (3): Linear(in_features=512, out_features=5, bias=True)\n",
       "  (4): Tanh()\n",
       "  (5): Linear(in_features=5, out_features=64, bias=True)\n",
       "  (6): Tanh()\n",
       "  (7): Linear(in_features=64, out_features=10, bias=True)\n",
       ")"
      ]
     },
     "execution_count": 118,
     "metadata": {},
     "output_type": "execute_result"
    }
   ],
   "source": [
    "optimizer = optim.SGD(model.parameters(), lr=0.1)\n",
    "model.apply(weight_reset)"
   ]
  },
  {
   "cell_type": "code",
   "execution_count": 119,
   "metadata": {
    "id": "Fx878231wz4N",
    "scrolled": true
   },
   "outputs": [
    {
     "name": "stdout",
     "output_type": "stream",
     "text": [
      "Train Epoch: 1 [0/60000 (0%)]\tLoss: 2.322958\n",
      "Train Epoch: 1 [12800/60000 (21%)]\tLoss: 0.560374\n",
      "Train Epoch: 1 [25600/60000 (43%)]\tLoss: 0.405566\n",
      "Train Epoch: 1 [38400/60000 (64%)]\tLoss: 0.542819\n",
      "Train Epoch: 1 [51200/60000 (85%)]\tLoss: 0.131538\n",
      "\n",
      "Test set: Average loss: 0.0047, Accuracy: 9138/10000 (91%)\n",
      "\n",
      "Train Epoch: 2 [0/60000 (0%)]\tLoss: 0.397148\n",
      "Train Epoch: 2 [12800/60000 (21%)]\tLoss: 0.270165\n",
      "Train Epoch: 2 [25600/60000 (43%)]\tLoss: 0.175335\n",
      "Train Epoch: 2 [38400/60000 (64%)]\tLoss: 0.151393\n",
      "Train Epoch: 2 [51200/60000 (85%)]\tLoss: 0.165130\n",
      "\n",
      "Test set: Average loss: 0.0032, Accuracy: 9464/10000 (95%)\n",
      "\n",
      "Train Epoch: 3 [0/60000 (0%)]\tLoss: 0.159452\n",
      "Train Epoch: 3 [12800/60000 (21%)]\tLoss: 0.283069\n",
      "Train Epoch: 3 [25600/60000 (43%)]\tLoss: 0.060759\n",
      "Train Epoch: 3 [38400/60000 (64%)]\tLoss: 0.224519\n",
      "Train Epoch: 3 [51200/60000 (85%)]\tLoss: 0.198942\n",
      "\n",
      "Test set: Average loss: 0.0026, Accuracy: 9573/10000 (96%)\n",
      "\n",
      "Train Epoch: 4 [0/60000 (0%)]\tLoss: 0.118145\n",
      "Train Epoch: 4 [12800/60000 (21%)]\tLoss: 0.060959\n",
      "Train Epoch: 4 [25600/60000 (43%)]\tLoss: 0.260265\n",
      "Train Epoch: 4 [38400/60000 (64%)]\tLoss: 0.138956\n",
      "Train Epoch: 4 [51200/60000 (85%)]\tLoss: 0.031747\n",
      "\n",
      "Test set: Average loss: 0.0023, Accuracy: 9620/10000 (96%)\n",
      "\n",
      "CPU times: user 3min 56s, sys: 512 ms, total: 3min 56s\n",
      "Wall time: 29.8 s\n"
     ]
    }
   ],
   "source": [
    "%%time\n",
    "for epoch in range(1, 5):\n",
    "    train(model, train_loader, optimizer, loss_function, epoch)\n",
    "    test(model, test_loader, loss_function)"
   ]
  },
  {
   "cell_type": "markdown",
   "metadata": {
    "id": "Fx878231wz4N"
   },
   "source": [
    "\"Add  3 hidden layers of sizes `512`, `5` and `64`. \"\n",
    "\n",
    "##### How does this affect the training process?\n",
    "\n",
    "- This modification ruins the model a bit because here is a layer in between with only 5 neurons\n",
    "\n",
    "##### Is it faster slower?\n",
    "\n",
    "- The time it takes is equal\n",
    "\n",
    "##### Is the result better or worse?\n",
    "\n",
    "- The accuracy is about equal"
   ]
  },
  {
   "cell_type": "markdown",
   "metadata": {
    "id": "Fx878231wz4N"
   },
   "source": [
    "##### 8. Try adding dropout after first/second layer. How does this modification affect training process? [1]"
   ]
  },
  {
   "cell_type": "code",
   "execution_count": 120,
   "metadata": {
    "id": "iyfJfxlYiGY2"
   },
   "outputs": [],
   "source": [
    "model = nn.Sequential(Flatten(), \n",
    "                      nn.Linear(784, 512), \n",
    "                      nn.Tanh(),\n",
    "                      nn.Dropout(0.5),\n",
    "                      nn.Linear(512, 64), \n",
    "                      nn.Tanh(),\n",
    "                      nn.Linear(64, 10))\n",
    "for param in model.parameters():\n",
    "    init.uniform_(param, -0.1, 0.1)"
   ]
  },
  {
   "cell_type": "code",
   "execution_count": 121,
   "metadata": {
    "id": "Fx878231wz4N",
    "scrolled": false
   },
   "outputs": [
    {
     "data": {
      "text/plain": [
       "Sequential(\n",
       "  (0): Flatten()\n",
       "  (1): Linear(in_features=784, out_features=512, bias=True)\n",
       "  (2): Tanh()\n",
       "  (3): Dropout(p=0.5, inplace=False)\n",
       "  (4): Linear(in_features=512, out_features=64, bias=True)\n",
       "  (5): Tanh()\n",
       "  (6): Linear(in_features=64, out_features=10, bias=True)\n",
       ")"
      ]
     },
     "execution_count": 121,
     "metadata": {},
     "output_type": "execute_result"
    }
   ],
   "source": [
    "optimizer = optim.SGD(model.parameters(), lr=0.1)\n",
    "model.apply(weight_reset)"
   ]
  },
  {
   "cell_type": "code",
   "execution_count": 122,
   "metadata": {
    "id": "Fx878231wz4N",
    "scrolled": true
   },
   "outputs": [
    {
     "name": "stdout",
     "output_type": "stream",
     "text": [
      "Train Epoch: 1 [0/60000 (0%)]\tLoss: 2.292633\n",
      "Train Epoch: 1 [12800/60000 (21%)]\tLoss: 0.303937\n",
      "Train Epoch: 1 [25600/60000 (43%)]\tLoss: 0.444373\n",
      "Train Epoch: 1 [38400/60000 (64%)]\tLoss: 0.342879\n",
      "Train Epoch: 1 [51200/60000 (85%)]\tLoss: 0.266177\n",
      "\n",
      "Test set: Average loss: 0.0032, Accuracy: 9400/10000 (94%)\n",
      "\n",
      "Train Epoch: 2 [0/60000 (0%)]\tLoss: 0.335613\n",
      "Train Epoch: 2 [12800/60000 (21%)]\tLoss: 0.160549\n",
      "Train Epoch: 2 [25600/60000 (43%)]\tLoss: 0.207899\n",
      "Train Epoch: 2 [38400/60000 (64%)]\tLoss: 0.169904\n",
      "Train Epoch: 2 [51200/60000 (85%)]\tLoss: 0.111756\n",
      "\n",
      "Test set: Average loss: 0.0022, Accuracy: 9590/10000 (96%)\n",
      "\n",
      "Train Epoch: 3 [0/60000 (0%)]\tLoss: 0.146918\n",
      "Train Epoch: 3 [12800/60000 (21%)]\tLoss: 0.120969\n",
      "Train Epoch: 3 [25600/60000 (43%)]\tLoss: 0.142002\n",
      "Train Epoch: 3 [38400/60000 (64%)]\tLoss: 0.157770\n",
      "Train Epoch: 3 [51200/60000 (85%)]\tLoss: 0.207270\n",
      "\n",
      "Test set: Average loss: 0.0018, Accuracy: 9643/10000 (96%)\n",
      "\n",
      "Train Epoch: 4 [0/60000 (0%)]\tLoss: 0.175825\n",
      "Train Epoch: 4 [12800/60000 (21%)]\tLoss: 0.105363\n",
      "Train Epoch: 4 [25600/60000 (43%)]\tLoss: 0.203411\n",
      "Train Epoch: 4 [38400/60000 (64%)]\tLoss: 0.119067\n",
      "Train Epoch: 4 [51200/60000 (85%)]\tLoss: 0.069879\n",
      "\n",
      "Test set: Average loss: 0.0016, Accuracy: 9679/10000 (97%)\n",
      "\n",
      "CPU times: user 3min 53s, sys: 472 ms, total: 3min 54s\n",
      "Wall time: 29.5 s\n"
     ]
    }
   ],
   "source": [
    "%%time\n",
    "for epoch in range(1, 5):\n",
    "    train(model, train_loader, optimizer, loss_function, epoch)\n",
    "    test(model, test_loader, loss_function)"
   ]
  },
  {
   "cell_type": "markdown",
   "metadata": {
    "id": "Fx878231wz4N"
   },
   "source": [
    "\"Add  dropout \"\n",
    "\n",
    "##### How does this affect the training process?\n",
    "\n",
    "- During training, some number of layer outputs are randomly ignored or “dropped out.” This has the effect of making the layer look-like and be treated-like a layer with a different number of nodes and connectivity to the prior layer. In effect, each update to a layer during training is performed with a different “view” of the configured layer.\n",
    "\n",
    "##### Is it faster slower?\n",
    "\n",
    "- The time it takes for 4 epochs is 0.5 seconds lower than benchmark\n",
    "\n",
    "##### Is the result better or worse?\n",
    "\n",
    "- The result should be a littlebit better, but is equal"
   ]
  },
  {
   "cell_type": "markdown",
   "metadata": {
    "id": "Fx878231wz4N"
   },
   "source": [
    "##### 9. Try disabling shuffle in the train dataloader (leave it unchanged in the test dataloader, otherwise testing will not be fair). How does this modification affect training process? Do not forget to reset training weights of the model. [1]"
   ]
  },
  {
   "cell_type": "code",
   "execution_count": 123,
   "metadata": {
    "id": "isUaEilOg79-"
   },
   "outputs": [],
   "source": [
    "train_loader = torch.utils.data.DataLoader(train_dataset, batch_size=64, shuffle=False)"
   ]
  },
  {
   "cell_type": "code",
   "execution_count": 124,
   "metadata": {
    "id": "iyfJfxlYiGY2"
   },
   "outputs": [],
   "source": [
    "model = nn.Sequential(Flatten(), \n",
    "                      nn.Linear(784, 512), \n",
    "                      nn.Tanh(),\n",
    "                      nn.Linear(512, 64), \n",
    "                      nn.Tanh(),\n",
    "                      nn.Linear(64, 10))\n",
    "for param in model.parameters():\n",
    "    init.uniform_(param, -0.1, 0.1)"
   ]
  },
  {
   "cell_type": "code",
   "execution_count": 125,
   "metadata": {
    "id": "Fx878231wz4N",
    "scrolled": false
   },
   "outputs": [
    {
     "data": {
      "text/plain": [
       "Sequential(\n",
       "  (0): Flatten()\n",
       "  (1): Linear(in_features=784, out_features=512, bias=True)\n",
       "  (2): Tanh()\n",
       "  (3): Linear(in_features=512, out_features=64, bias=True)\n",
       "  (4): Tanh()\n",
       "  (5): Linear(in_features=64, out_features=10, bias=True)\n",
       ")"
      ]
     },
     "execution_count": 125,
     "metadata": {},
     "output_type": "execute_result"
    }
   ],
   "source": [
    "optimizer = optim.SGD(model.parameters(), lr=0.1)\n",
    "model.apply(weight_reset)"
   ]
  },
  {
   "cell_type": "code",
   "execution_count": 126,
   "metadata": {
    "id": "Fx878231wz4N",
    "scrolled": true
   },
   "outputs": [
    {
     "name": "stdout",
     "output_type": "stream",
     "text": [
      "Train Epoch: 1 [0/60000 (0%)]\tLoss: 2.309062\n",
      "Train Epoch: 1 [12800/60000 (21%)]\tLoss: 0.247206\n",
      "Train Epoch: 1 [25600/60000 (43%)]\tLoss: 0.217764\n",
      "Train Epoch: 1 [38400/60000 (64%)]\tLoss: 0.179675\n",
      "Train Epoch: 1 [51200/60000 (85%)]\tLoss: 0.211449\n",
      "\n",
      "Test set: Average loss: 0.0029, Accuracy: 9432/10000 (94%)\n",
      "\n",
      "Train Epoch: 2 [0/60000 (0%)]\tLoss: 0.111791\n",
      "Train Epoch: 2 [12800/60000 (21%)]\tLoss: 0.096746\n",
      "Train Epoch: 2 [25600/60000 (43%)]\tLoss: 0.107957\n",
      "Train Epoch: 2 [38400/60000 (64%)]\tLoss: 0.090714\n",
      "Train Epoch: 2 [51200/60000 (85%)]\tLoss: 0.137758\n",
      "\n",
      "Test set: Average loss: 0.0019, Accuracy: 9636/10000 (96%)\n",
      "\n",
      "Train Epoch: 3 [0/60000 (0%)]\tLoss: 0.054833\n",
      "Train Epoch: 3 [12800/60000 (21%)]\tLoss: 0.069503\n",
      "Train Epoch: 3 [25600/60000 (43%)]\tLoss: 0.057007\n",
      "Train Epoch: 3 [38400/60000 (64%)]\tLoss: 0.058898\n",
      "Train Epoch: 3 [51200/60000 (85%)]\tLoss: 0.103682\n",
      "\n",
      "Test set: Average loss: 0.0014, Accuracy: 9705/10000 (97%)\n",
      "\n",
      "Train Epoch: 4 [0/60000 (0%)]\tLoss: 0.035297\n",
      "Train Epoch: 4 [12800/60000 (21%)]\tLoss: 0.053515\n",
      "Train Epoch: 4 [25600/60000 (43%)]\tLoss: 0.037152\n",
      "Train Epoch: 4 [38400/60000 (64%)]\tLoss: 0.042710\n",
      "Train Epoch: 4 [51200/60000 (85%)]\tLoss: 0.080994\n",
      "\n",
      "Test set: Average loss: 0.0013, Accuracy: 9747/10000 (97%)\n",
      "\n",
      "CPU times: user 3min 50s, sys: 443 ms, total: 3min 50s\n",
      "Wall time: 29.1 s\n"
     ]
    }
   ],
   "source": [
    "%%time\n",
    "for epoch in range(1, 5):\n",
    "    train(model, train_loader, optimizer, loss_function, epoch)\n",
    "    test(model, test_loader, loss_function)"
   ]
  },
  {
   "cell_type": "markdown",
   "metadata": {
    "id": "Fx878231wz4N"
   },
   "source": [
    "\"Stop the train dataset loader from shuffling MNIST data. \"\n",
    "\n",
    "##### How does this affect the training process?\n",
    "\n",
    "- According to the web the MNIST dataset is shuffled, so not shuffling it has no effect \n",
    "\n",
    "##### Is it faster slower?\n",
    "\n",
    "- The time it takes for 4 epochs is equal to the previous case\n",
    "\n",
    "##### Is the result better or worse?\n",
    "\n",
    "- Equal"
   ]
  },
  {
   "cell_type": "markdown",
   "metadata": {
    "id": "Fx878231wz4N"
   },
   "source": [
    "##### 10. Try training, using half of the training dataset. 30%. 10%. How does this affect training process? Do not forget to reset training weights of the model. [1] "
   ]
  },
  {
   "cell_type": "code",
   "execution_count": 127,
   "metadata": {
    "id": "Fx878231wz4N"
   },
   "outputs": [],
   "source": [
    "from torch.utils.data import RandomSampler, DataLoader, Subset"
   ]
  },
  {
   "cell_type": "code",
   "execution_count": 128,
   "metadata": {
    "id": "Fx878231wz4N"
   },
   "outputs": [
    {
     "data": {
      "text/plain": [
       "torch.Size([60000, 28, 28])"
      ]
     },
     "execution_count": 128,
     "metadata": {},
     "output_type": "execute_result"
    }
   ],
   "source": [
    "train_dataset.data.shape"
   ]
  },
  {
   "cell_type": "code",
   "execution_count": 129,
   "metadata": {
    "id": "Fx878231wz4N"
   },
   "outputs": [
    {
     "data": {
      "text/plain": [
       "torch.Size([64, 1, 28, 28])"
      ]
     },
     "execution_count": 129,
     "metadata": {},
     "output_type": "execute_result"
    }
   ],
   "source": [
    "examples = enumerate(train_loader)\n",
    "batch_idx, (example_data, example_targets) = next(examples)\n",
    "example_data.shape"
   ]
  },
  {
   "cell_type": "markdown",
   "metadata": {
    "id": "Fx878231wz4N"
   },
   "source": [
    "#### So one train data batch is a  tensor of shape: torch.Size([64,1, 28, 28]). This means we have 1000 examples of 28x28 pixels in grayscale (i.e. no rgb channels, hence the one). We can plot some of them using matplotlib."
   ]
  },
  {
   "cell_type": "code",
   "execution_count": 130,
   "metadata": {
    "id": "iyfJfxlYiGY2"
   },
   "outputs": [],
   "source": [
    "model = nn.Sequential(Flatten(), \n",
    "                      nn.Linear(784, 512), \n",
    "                      nn.Tanh(),\n",
    "                      nn.Linear(512, 64), \n",
    "                      nn.Tanh(),\n",
    "                      nn.Linear(64, 10))\n",
    "for param in model.parameters():\n",
    "    init.uniform_(param, -0.1, 0.1)"
   ]
  },
  {
   "cell_type": "code",
   "execution_count": 131,
   "metadata": {
    "id": "Fx878231wz4N",
    "scrolled": false
   },
   "outputs": [
    {
     "data": {
      "text/plain": [
       "Sequential(\n",
       "  (0): Flatten()\n",
       "  (1): Linear(in_features=784, out_features=512, bias=True)\n",
       "  (2): Tanh()\n",
       "  (3): Linear(in_features=512, out_features=64, bias=True)\n",
       "  (4): Tanh()\n",
       "  (5): Linear(in_features=64, out_features=10, bias=True)\n",
       ")"
      ]
     },
     "execution_count": 131,
     "metadata": {},
     "output_type": "execute_result"
    }
   ],
   "source": [
    "optimizer = optim.SGD(model.parameters(), lr=0.1)\n",
    "model.apply(weight_reset)"
   ]
  },
  {
   "cell_type": "code",
   "execution_count": 132,
   "metadata": {
    "id": "Fx878231wz4N"
   },
   "outputs": [],
   "source": [
    "train_ds = train_dataset\n",
    "num_train_samples = 30000\n",
    "sample_ds = Subset(train_dataset, np.arange(num_train_samples))\n",
    "sample_sampler = RandomSampler(sample_ds)\n",
    "sample_dl = DataLoader(sample_ds, sampler=sample_sampler, batch_size=64)"
   ]
  },
  {
   "cell_type": "code",
   "execution_count": 133,
   "metadata": {
    "id": "Fx878231wz4N",
    "scrolled": true
   },
   "outputs": [
    {
     "name": "stdout",
     "output_type": "stream",
     "text": [
      "Train Epoch: 1 [0/30000 (0%)]\tLoss: 2.265165\n",
      "Train Epoch: 1 [12800/30000 (43%)]\tLoss: 0.310917\n",
      "Train Epoch: 1 [25600/30000 (85%)]\tLoss: 0.201090\n",
      "\n",
      "Test set: Average loss: 0.0039, Accuracy: 9289/10000 (93%)\n",
      "\n",
      "Train Epoch: 2 [0/30000 (0%)]\tLoss: 0.227417\n",
      "Train Epoch: 2 [12800/30000 (43%)]\tLoss: 0.157015\n",
      "Train Epoch: 2 [25600/30000 (85%)]\tLoss: 0.300440\n",
      "\n",
      "Test set: Average loss: 0.0027, Accuracy: 9486/10000 (95%)\n",
      "\n",
      "Train Epoch: 3 [0/30000 (0%)]\tLoss: 0.068329\n",
      "Train Epoch: 3 [12800/30000 (43%)]\tLoss: 0.131746\n",
      "Train Epoch: 3 [25600/30000 (85%)]\tLoss: 0.166613\n",
      "\n",
      "Test set: Average loss: 0.0021, Accuracy: 9607/10000 (96%)\n",
      "\n",
      "Train Epoch: 4 [0/30000 (0%)]\tLoss: 0.121136\n",
      "Train Epoch: 4 [12800/30000 (43%)]\tLoss: 0.112726\n",
      "Train Epoch: 4 [25600/30000 (85%)]\tLoss: 0.099924\n",
      "\n",
      "Test set: Average loss: 0.0018, Accuracy: 9648/10000 (96%)\n",
      "\n",
      "CPU times: user 2min 9s, sys: 464 ms, total: 2min 10s\n",
      "Wall time: 16.4 s\n"
     ]
    }
   ],
   "source": [
    "%%time\n",
    "for epoch in range(1, 5):\n",
    "    train(model, sample_dl, optimizer, loss_function, epoch)\n",
    "    test(model, test_loader, loss_function)"
   ]
  },
  {
   "cell_type": "markdown",
   "metadata": {
    "id": "Fx878231wz4N"
   },
   "source": [
    "\"Use only 50% of the training dataset.\"\n",
    "\n",
    "##### How does this affect the training process?\n",
    "\n",
    "- This modification caps the accuracy on the test dataset\n",
    "\n",
    "##### Is it faster slower?\n",
    "\n",
    "- Using half of the dataset is 2x as fast ofcourse\n",
    "\n",
    "##### Is the result better or worse?\n",
    "\n",
    "As the accuracy is not so much worse, and the speed is much faster. More epochs result into the same convergence, therefore so far it does not deliver any problems. EQUAL"
   ]
  },
  {
   "cell_type": "code",
   "execution_count": 134,
   "metadata": {
    "id": "Fx878231wz4N",
    "scrolled": false
   },
   "outputs": [
    {
     "data": {
      "text/plain": [
       "Sequential(\n",
       "  (0): Flatten()\n",
       "  (1): Linear(in_features=784, out_features=512, bias=True)\n",
       "  (2): Tanh()\n",
       "  (3): Linear(in_features=512, out_features=64, bias=True)\n",
       "  (4): Tanh()\n",
       "  (5): Linear(in_features=64, out_features=10, bias=True)\n",
       ")"
      ]
     },
     "execution_count": 134,
     "metadata": {},
     "output_type": "execute_result"
    }
   ],
   "source": [
    "optimizer = optim.SGD(model.parameters(), lr=0.1)\n",
    "model.apply(weight_reset)"
   ]
  },
  {
   "cell_type": "code",
   "execution_count": 135,
   "metadata": {
    "id": "Fx878231wz4N"
   },
   "outputs": [],
   "source": [
    "train_ds = train_dataset\n",
    "num_train_samples = 20000\n",
    "sample_ds = Subset(train_dataset, np.arange(num_train_samples))\n",
    "sample_sampler = RandomSampler(sample_ds)\n",
    "sample_dl = DataLoader(sample_ds, sampler=sample_sampler, batch_size=64)"
   ]
  },
  {
   "cell_type": "code",
   "execution_count": 136,
   "metadata": {
    "id": "Fx878231wz4N",
    "scrolled": true
   },
   "outputs": [
    {
     "name": "stdout",
     "output_type": "stream",
     "text": [
      "Train Epoch: 1 [0/20000 (0%)]\tLoss: 2.292285\n",
      "Train Epoch: 1 [12800/20000 (64%)]\tLoss: 0.246990\n",
      "\n",
      "Test set: Average loss: 0.0043, Accuracy: 9219/10000 (92%)\n",
      "\n",
      "Train Epoch: 2 [0/20000 (0%)]\tLoss: 0.466618\n",
      "Train Epoch: 2 [12800/20000 (64%)]\tLoss: 0.350250\n",
      "\n",
      "Test set: Average loss: 0.0035, Accuracy: 9343/10000 (93%)\n",
      "\n",
      "Train Epoch: 3 [0/20000 (0%)]\tLoss: 0.209156\n",
      "Train Epoch: 3 [12800/20000 (64%)]\tLoss: 0.110871\n",
      "\n",
      "Test set: Average loss: 0.0030, Accuracy: 9429/10000 (94%)\n",
      "\n",
      "Train Epoch: 4 [0/20000 (0%)]\tLoss: 0.120007\n",
      "Train Epoch: 4 [12800/20000 (64%)]\tLoss: 0.197351\n",
      "\n",
      "Test set: Average loss: 0.0026, Accuracy: 9490/10000 (95%)\n",
      "\n",
      "Train Epoch: 5 [0/20000 (0%)]\tLoss: 0.167858\n",
      "Train Epoch: 5 [12800/20000 (64%)]\tLoss: 0.072866\n",
      "\n",
      "Test set: Average loss: 0.0021, Accuracy: 9607/10000 (96%)\n",
      "\n",
      "Train Epoch: 6 [0/20000 (0%)]\tLoss: 0.078825\n",
      "Train Epoch: 6 [12800/20000 (64%)]\tLoss: 0.059799\n",
      "\n",
      "Test set: Average loss: 0.0020, Accuracy: 9616/10000 (96%)\n",
      "\n",
      "CPU times: user 2min 25s, sys: 272 ms, total: 2min 25s\n",
      "Wall time: 18.3 s\n"
     ]
    }
   ],
   "source": [
    "%%time\n",
    "for epoch in range(1, 7):\n",
    "    train(model, sample_dl, optimizer, loss_function, epoch)\n",
    "    test(model, test_loader, loss_function)"
   ]
  },
  {
   "cell_type": "markdown",
   "metadata": {
    "id": "Fx878231wz4N"
   },
   "source": [
    "\"Use only 30% of the training dataset.\"\n",
    "\n",
    "##### How does this affect the training process?\n",
    "\n",
    "- It is obvious that the accuracy is less than the previous accuracy\n",
    "\n",
    "##### Is it faster slower?\n",
    "\n",
    "- The speed up is linear\n",
    "\n",
    "##### Is the result better or worse?\n",
    "\n",
    "The result is worse in the same amount of epochs, this time when I linearly increase the epochs corresponding to the dataset size, the accuracy is 4% less. Therefore this result is worse."
   ]
  },
  {
   "cell_type": "code",
   "execution_count": 137,
   "metadata": {
    "id": "Fx878231wz4N",
    "scrolled": false
   },
   "outputs": [
    {
     "data": {
      "text/plain": [
       "Sequential(\n",
       "  (0): Flatten()\n",
       "  (1): Linear(in_features=784, out_features=512, bias=True)\n",
       "  (2): Tanh()\n",
       "  (3): Linear(in_features=512, out_features=64, bias=True)\n",
       "  (4): Tanh()\n",
       "  (5): Linear(in_features=64, out_features=10, bias=True)\n",
       ")"
      ]
     },
     "execution_count": 137,
     "metadata": {},
     "output_type": "execute_result"
    }
   ],
   "source": [
    "optimizer = optim.SGD(model.parameters(), lr=0.1)\n",
    "model.apply(weight_reset)"
   ]
  },
  {
   "cell_type": "code",
   "execution_count": 138,
   "metadata": {
    "id": "Fx878231wz4N"
   },
   "outputs": [],
   "source": [
    "train_ds = train_dataset\n",
    "num_train_samples = 6000\n",
    "sample_ds = Subset(train_dataset, np.arange(num_train_samples))\n",
    "sample_sampler = RandomSampler(sample_ds)\n",
    "sample_dl = DataLoader(sample_ds, sampler=sample_sampler, batch_size=64)"
   ]
  },
  {
   "cell_type": "code",
   "execution_count": null,
   "metadata": {
    "id": "Fx878231wz4N",
    "scrolled": true
   },
   "outputs": [
    {
     "name": "stdout",
     "output_type": "stream",
     "text": [
      "Train Epoch: 1 [0/6000 (0%)]\tLoss: 2.325476\n"
     ]
    }
   ],
   "source": [
    "%%time\n",
    "for epoch in range(1, 5):\n",
    "    train(model, sample_dl, optimizer, loss_function, epoch)\n",
    "    test(model, test_loader, loss_function)"
   ]
  },
  {
   "cell_type": "markdown",
   "metadata": {
    "id": "Fx878231wz4N"
   },
   "source": [
    "\"Use only 10% of the training dataset.\"\n",
    "\n",
    "##### How does this affect the training process?\n",
    "\n",
    "- Now the dataset is too small to be competing with the trained nets above. It becomes clear a larger dataset is preferable.\n",
    "\n",
    "##### Is it faster slower?\n",
    "\n",
    "- Way faster\n",
    "\n",
    "##### Is the result better or worse?\n",
    "\n",
    "As the accuracy does not converge beyond 92%, the result is a lot worse."
   ]
  }
 ],
 "metadata": {
  "colab": {
   "collapsed_sections": [],
   "name": "Berend Gort - Practice 2.",
   "provenance": []
  },
  "kernelspec": {
   "display_name": "Python 3.8 (pytorch)",
   "language": "python",
   "name": "pytorch"
  },
  "language_info": {
   "codemirror_mode": {
    "name": "ipython",
    "version": 3
   },
   "file_extension": ".py",
   "mimetype": "text/x-python",
   "name": "python",
   "nbconvert_exporter": "python",
   "pygments_lexer": "ipython3",
   "version": "3.8.8"
  }
 },
 "nbformat": 4,
 "nbformat_minor": 1
}
